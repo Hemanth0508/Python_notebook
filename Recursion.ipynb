{
 "cells": [
  {
   "cell_type": "markdown",
   "id": "3bf81675",
   "metadata": {},
   "source": [
    "## Recursion\n",
    "\n",
    "When a function calls itself until a specified condition is met."
   ]
  },
  {
   "cell_type": "code",
   "execution_count": 5,
   "id": "7947b157",
   "metadata": {},
   "outputs": [
    {
     "name": "stdout",
     "output_type": "stream",
     "text": [
      "1\n",
      "None\n"
     ]
    }
   ],
   "source": [
    "def reoccur():\n",
    "    print(1)\n",
    "print(reoccur())   "
   ]
  },
  {
   "cell_type": "code",
   "execution_count": 16,
   "id": "3b47e0c0",
   "metadata": {},
   "outputs": [
    {
     "name": "stdout",
     "output_type": "stream",
     "text": [
      "1\n",
      "2\n",
      "3\n",
      "4\n",
      "5\n",
      "6\n",
      "7\n",
      "8\n",
      "9\n",
      "10\n",
      "11\n",
      "12\n",
      "13\n",
      "14\n",
      "15\n",
      "16\n",
      "17\n",
      "18\n",
      "19\n",
      "20\n"
     ]
    }
   ],
   "source": [
    "# Print first 20 numbers using recursion.\n",
    "\n",
    "def num(n):\n",
    "    if n > 20:    # Base condition when n > 20 stop \n",
    "        return\n",
    "    print(n)\n",
    "    num(n + 1)\n",
    "\n",
    "num(1)    "
   ]
  },
  {
   "cell_type": "markdown",
   "id": "f54c8c3a",
   "metadata": {},
   "source": [
    "### Recursion Tree\n",
    "\n",
    "num(1) -> num(2) -> num(3) -> ..... -> num(20) -> num(21) -> return"
   ]
  },
  {
   "cell_type": "markdown",
   "id": "5764e76e",
   "metadata": {},
   "source": [
    "### Questions on recursion (vid 2)"
   ]
  },
  {
   "cell_type": "code",
   "execution_count": 31,
   "id": "bbc81739",
   "metadata": {},
   "outputs": [
    {
     "name": "stdout",
     "output_type": "stream",
     "text": [
      "Hemanth\n",
      "Hemanth\n",
      "Hemanth\n",
      "Hemanth\n",
      "Hemanth\n"
     ]
    }
   ],
   "source": [
    "# Print Name 5 times\n",
    "\n",
    "def name_count(n):\n",
    "    if n ==0:\n",
    "        return\n",
    "    print(\"Hemanth\")\n",
    "    name_count(n-1)\n",
    "\n",
    "name_count(5)\n",
    "\n"
   ]
  },
  {
   "cell_type": "code",
   "execution_count": 26,
   "id": "adcf7e4c",
   "metadata": {},
   "outputs": [
    {
     "name": "stdout",
     "output_type": "stream",
     "text": [
      "hemanth hemanth hemanth hemanth hemanth \n"
     ]
    }
   ],
   "source": [
    "print(\"hemanth \" * 5)"
   ]
  },
  {
   "cell_type": "code",
   "execution_count": 35,
   "id": "025874dd",
   "metadata": {},
   "outputs": [
    {
     "name": "stdout",
     "output_type": "stream",
     "text": [
      "1\n",
      "2\n",
      "3\n",
      "4\n",
      "5\n",
      "6\n",
      "7\n",
      "8\n",
      "9\n",
      "10\n",
      "11\n",
      "12\n",
      "13\n",
      "14\n",
      "15\n",
      "16\n",
      "17\n",
      "18\n",
      "19\n",
      "20\n"
     ]
    }
   ],
   "source": [
    "# Print linealy from 1 to N\n",
    "\n",
    "def lin(n, count = 1):\n",
    "    if count > n:\n",
    "        return\n",
    "    print(count)\n",
    "    lin(n , count + 1)\n",
    "\n",
    "lin(20)    "
   ]
  },
  {
   "cell_type": "code",
   "execution_count": 42,
   "id": "69eec5ee",
   "metadata": {},
   "outputs": [
    {
     "name": "stdout",
     "output_type": "stream",
     "text": [
      "20\n",
      "19\n",
      "18\n",
      "17\n",
      "16\n",
      "15\n",
      "14\n",
      "13\n",
      "12\n",
      "11\n",
      "10\n",
      "9\n",
      "8\n",
      "7\n",
      "6\n",
      "5\n",
      "4\n",
      "3\n",
      "2\n",
      "1\n"
     ]
    }
   ],
   "source": [
    "# Print lineraly from N to 1\n",
    "\n",
    "def lin(n):\n",
    "    if n == 0:\n",
    "        return\n",
    "    print(n)\n",
    "    lin(n-1)\n",
    "\n",
    "lin(20)    "
   ]
  },
  {
   "cell_type": "code",
   "execution_count": 51,
   "id": "e04f500d",
   "metadata": {},
   "outputs": [
    {
     "name": "stdout",
     "output_type": "stream",
     "text": [
      "20\n",
      "19\n",
      "18\n",
      "17\n",
      "16\n",
      "15\n",
      "14\n",
      "13\n",
      "12\n",
      "11\n",
      "10\n",
      "9\n",
      "8\n",
      "7\n",
      "6\n",
      "5\n",
      "4\n",
      "3\n",
      "2\n",
      "1\n"
     ]
    }
   ],
   "source": [
    "# Print lineraly from N to 1\n",
    "\n",
    "def zen(x, coun = 20):\n",
    "    if coun == 0:\n",
    "        return\n",
    "    print(coun)\n",
    "    zen(x, coun - 1)\n",
    "\n",
    "zen(20)"
   ]
  },
  {
   "cell_type": "code",
   "execution_count": 52,
   "id": "49a28325",
   "metadata": {},
   "outputs": [
    {
     "name": "stdout",
     "output_type": "stream",
     "text": [
      "1\n",
      "2\n",
      "3\n",
      "4\n",
      "5\n",
      "6\n",
      "7\n",
      "8\n",
      "9\n",
      "10\n"
     ]
    }
   ],
   "source": [
    "# print linearly from 1 to N using backtracking\n",
    "\n",
    "def backtrack(n):\n",
    "    if n == 0:\n",
    "        return\n",
    "    backtrack(n - 1)\n",
    "    print(n)\n",
    "\n",
    "backtrack(10)    \n"
   ]
  },
  {
   "cell_type": "code",
   "execution_count": 53,
   "id": "c149d8fb",
   "metadata": {},
   "outputs": [
    {
     "name": "stdout",
     "output_type": "stream",
     "text": [
      "6\n",
      "5\n",
      "4\n",
      "3\n",
      "2\n",
      "1\n"
     ]
    }
   ],
   "source": [
    "# Print linearly from N to 1 using backtracking\n",
    "\n",
    "def r_backtrack(n):\n",
    "    if n == 0:\n",
    "        return\n",
    "    print(n)\n",
    "    r_backtrack(n  - 1)\n",
    "\n",
    "r_backtrack(6)    "
   ]
  },
  {
   "cell_type": "markdown",
   "id": "e2aae656",
   "metadata": {},
   "source": [
    "### Parameterized way"
   ]
  },
  {
   "cell_type": "code",
   "execution_count": 61,
   "id": "0971bc24",
   "metadata": {},
   "outputs": [
    {
     "name": "stdout",
     "output_type": "stream",
     "text": [
      "55\n"
     ]
    }
   ],
   "source": [
    "# Sum of first n numbers using recursion \n",
    "\n",
    "def sum_para(n, sum = 0):\n",
    "    if n == 0:\n",
    "        print(sum)\n",
    "        return\n",
    "    sum_para(n-1, sum+n)\n",
    "\n",
    "sum_para(10)     "
   ]
  },
  {
   "cell_type": "code",
   "execution_count": null,
   "id": "23fd86ed",
   "metadata": {},
   "outputs": [],
   "source": []
  }
 ],
 "metadata": {
  "kernelspec": {
   "display_name": "Python 3",
   "language": "python",
   "name": "python3"
  },
  "language_info": {
   "codemirror_mode": {
    "name": "ipython",
    "version": 3
   },
   "file_extension": ".py",
   "mimetype": "text/x-python",
   "name": "python",
   "nbconvert_exporter": "python",
   "pygments_lexer": "ipython3",
   "version": "3.11.5"
  }
 },
 "nbformat": 4,
 "nbformat_minor": 5
}
