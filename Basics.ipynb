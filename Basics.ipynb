{
 "cells": [
  {
   "cell_type": "markdown",
   "id": "20cdb1ed",
   "metadata": {},
   "source": [
    "### Day 1"
   ]
  },
  {
   "cell_type": "code",
   "execution_count": null,
   "id": "cd666edc",
   "metadata": {},
   "outputs": [],
   "source": []
  },
  {
   "cell_type": "code",
   "execution_count": null,
   "id": "bb735454",
   "metadata": {},
   "outputs": [],
   "source": []
  },
  {
   "cell_type": "code",
   "execution_count": 1,
   "id": "6fb66a76",
   "metadata": {},
   "outputs": [
    {
     "name": "stdout",
     "output_type": "stream",
     "text": [
      "Hello world\n",
      "hi this is hemanth\n",
      "hi\n",
      "Hello\n"
     ]
    }
   ],
   "source": [
    "print(\"Hello world\")\n",
    "\n",
    "print(\"hi this is hemanth\")\n",
    "\n",
    "print(\"hi\")\n",
    "\n",
    "print(\"Hello\")"
   ]
  },
  {
   "cell_type": "markdown",
   "id": "4428695b",
   "metadata": {},
   "source": [
    "Questions to practice (Day-1):\n",
    "\n"
   ]
  },
  {
   "cell_type": "code",
   "execution_count": 42,
   "id": "3a7e2739",
   "metadata": {},
   "outputs": [
    {
     "name": "stdout",
     "output_type": "stream",
     "text": [
      "My name is Hemanth\n",
      "105\n",
      "143\n",
      "63\n",
      "12.0\n"
     ]
    }
   ],
   "source": [
    "# 1.Print your name.\n",
    "print(\"My name is Hemanth\")    #My name is Hemanth\n",
    "\n",
    "# 2.Print the result of adding two numbers.\n",
    "print(42+63)                    #105\n",
    "\n",
    "# 3.Print the result of subtracting two numbers.\n",
    "print(144-1)                    #143\n",
    "\n",
    "# 4.Print the result of multiplying two numbers.\n",
    "print(7*9)                      #63\n",
    "\n",
    "# 5.Print the result of dividing two numbers.\n",
    "print(144/12)                    #12.0\n"
   ]
  },
  {
   "cell_type": "markdown",
   "id": "aad5e3e9",
   "metadata": {},
   "source": [
    "## Day 2\n",
    "\n",
    "Variables and Data types"
   ]
  },
  {
   "cell_type": "code",
   "execution_count": 7,
   "id": "0635b993",
   "metadata": {},
   "outputs": [
    {
     "name": "stdout",
     "output_type": "stream",
     "text": [
      "nihar is a good boy\n",
      "Your name is: Hemanth\n"
     ]
    }
   ],
   "source": [
    "#variables\n",
    "a = \"nihar\"\n",
    "b = \" is a \"\n",
    "c = \"good boy\"\n",
    "print(a+b+c)\n",
    "\n",
    "a = input(\"Enter your Name \")\n",
    "print(\"Your name is: \" +a) \n"
   ]
  },
  {
   "cell_type": "code",
   "execution_count": 8,
   "id": "8e0c54d3",
   "metadata": {},
   "outputs": [
    {
     "name": "stdout",
     "output_type": "stream",
     "text": [
      "<class 'int'>\n",
      "<class 'str'>\n",
      "<class 'float'>\n",
      "<class 'bool'>\n"
     ]
    }
   ],
   "source": [
    "#datatypes\n",
    "\n",
    "a = 1                 #int datatype for integers\n",
    "b = \"hemanth\"          #str datatype for characters\n",
    "c = 3.33                #float datatype is for decimals \n",
    "d = True                #bool datatype is for boolean expressions like true or false \n",
    "print(type(a))\n",
    "print(type(b))\n",
    "print(type(c)) \n",
    "print(type(d))"
   ]
  },
  {
   "cell_type": "markdown",
   "id": "8ba59d0e",
   "metadata": {},
   "source": [
    "### Questions to Practice (Day - 2):"
   ]
  },
  {
   "cell_type": "code",
   "execution_count": null,
   "id": "5128f6c4",
   "metadata": {},
   "outputs": [
    {
     "name": "stdout",
     "output_type": "stream",
     "text": [
      "105\n",
      "Hello Hemanth\n",
      "3.14159\n",
      "<class 'bool'>\n",
      "Hey I am eager to learn Python!\n",
      "Hey I am eager to learn Python!\n",
      "Addition of x and y :30\n",
      "Subtraction of x and y:-14\n",
      "Multiplication of x and y:176\n",
      "Division of x and y:0.36363636363636365\n",
      "x raised to the power of y:73786976294838206464\n",
      "The remainder when x is divided by y:8\n",
      "The floor division of x and y:0\n",
      "Updated value:  42.0\n"
     ]
    }
   ],
   "source": [
    "# 1.Declare two variables `a` and `b`, assign integer values to them, and print their sum.\n",
    "#    Expected Output: The sum of `a` and `b`.\n",
    "\n",
    "a = 42\n",
    "b = 63\n",
    "print(a+b )                                 #105\n",
    "\n",
    "# 2.Create a variable `name` and assign your name to it. Print a greeting message using your name.\n",
    "#   Expected Output: Greeting message with your name, e.g., \"Hello, John!\"\n",
    "\n",
    "name = \"Hemanth\"\n",
    "print(\"Hello \" +str( name ))                #Hello Hemanth\n",
    "\n",
    "# 3.Define a variable `pi` and assign the value of π (pi) to it. Print the value of `pi`.\n",
    "#    Expected Output:The value of π (pi), e.g., 3.14159.\n",
    "\n",
    "pi = 3.14159\n",
    "print(pi)                                   #3.14159\n",
    "\n",
    "# 4. Define a variable `is_raining` and ask the user to input either \"True\" or \"False\" (as a string). Convert the input to a boolean and print its type.\n",
    "#    Expected Input: \"True\" or \"False\"\n",
    "#    Expected Output: The data type of the converted boolean.\n",
    "\n",
    "user_input = input(\"Is it raining ? Enter 'True' or 'False' \" )\n",
    "is_raining = user_input == \"True\"\n",
    "print(type(is_raining))                     #<class bool>\n",
    "\n",
    "# 5. Create a string variable sentence containing any sentence of your choice. Ask the user to input a number, convert it to an integer, and print the sentence repeated that number of times.\n",
    "#    Expected Input: A number (e.g., \"3\")\n",
    "#    Expected Output:The sentence repeated the specified number of times.\n",
    "\n",
    "a = \"Hey I am eager to learn Python!\"\n",
    "\n",
    "b= int(input(\"Enter the number:\"))\n",
    "\n",
    "for _ in range(b):\n",
    "    print(a)\n",
    "\n",
    "#6. Given two variables `x` and `y`, perform the following operations and print the results:\n",
    "    # - Addition of `x` and `y`.\n",
    "    # - Subtraction of `y` from `x`.\n",
    "    # - Multiplication of `x` and `y`.\n",
    "    # - Division of `x` by `y`.\n",
    "    # - `x` raised to the power of `y`.\n",
    "    # - The remainder when `x` is divided by `y`.\n",
    "    # - The floor division of `x` by `y`.\n",
    "\n",
    "x = int(input(\"Enter the value of x:\"))                             #8\n",
    "y = int(input(\"Enter the value of y:\"))                             #22\n",
    "\n",
    "print(\"Addition of x and y :\" +str(x+y))                            #30\n",
    "print(\"Subtraction of x and y:\"+str(x-y))                           #-14\n",
    "print(\"Multiplication of x and y:\" +str(x*y))                       #176\n",
    "print(\"Division of x and y:\"+str(x/y))                              #0.36363636363636365\n",
    "print(\"x raised to the power of y:\"+str(x**y))                      #73786976294838206464\n",
    "print(\"The remainder when x is divided by y:\"+str(x % y))           #8\n",
    "print(\"The floor division of x and y:\"+str(x // y))                 #0\n",
    "\n",
    "# 7. Define a variable `value` and assign any numerical value to it. Ask the user to input a new value. Update the variable `value` with the new input and print the updated value.\n",
    "# - Expected Input: A numerical value (e.g., \"42\")\n",
    "# - Expected Output: The updated value of the variable.\n",
    "\n",
    "value = 63\n",
    "i = int (input(\"enter the new number: \"))\n",
    "value = float(i)\n",
    "print(\"Updated value: \", value)                                      #42.0\n",
    "\n"
   ]
  },
  {
   "cell_type": "markdown",
   "id": "e9a94ada",
   "metadata": {},
   "source": [
    "## Day 4 \n",
    "\n",
    "Playing with strings"
   ]
  },
  {
   "cell_type": "code",
   "execution_count": 13,
   "id": "53345912",
   "metadata": {},
   "outputs": [
    {
     "name": "stdout",
     "output_type": "stream",
     "text": [
      "Hemanth Hemu\n",
      "Hemanth Hemanth Hemanth Hemanth Hemanth Hemanth Hemanth Hemanth \n",
      "****Hemanth Hemu****\n",
      "12\n"
     ]
    }
   ],
   "source": [
    "# String Concatenation\n",
    "\n",
    "a= \"Hemanth\" + \" \" + \"Hemu\"\n",
    "print(a)\n",
    "\n",
    "# String Repetition \n",
    "\n",
    "b = \"Hemanth \" * 8\n",
    "print(b)\n",
    "\n",
    "c = (\"*\" * 4) + a + (\"*\" * 4)\n",
    "print(c)\n",
    "\n",
    "print(len(a))"
   ]
  },
  {
   "cell_type": "markdown",
   "id": "b0fc9995",
   "metadata": {},
   "source": [
    "### Questions to Solve (Day - 4):"
   ]
  },
  {
   "cell_type": "code",
   "execution_count": 15,
   "id": "4e845c23",
   "metadata": {},
   "outputs": [
    {
     "name": "stdout",
     "output_type": "stream",
     "text": [
      "Hello World\n"
     ]
    }
   ],
   "source": [
    "# 1. Concatenate two strings `str1` and `str2`, and print the result.\n",
    "#     - Expected Input: str1 = \"Hello\", str2 = \"World\"\n",
    "#     - Expected Output: \"HelloWorld\"\n",
    "\n",
    "str1 = \"Hello\"\n",
    "str2 = \"World\"\n",
    "\n",
    "a = str1 + \" \" +str2\n",
    "\n",
    "print(a)"
   ]
  },
  {
   "cell_type": "code",
   "execution_count": 16,
   "id": "a96639fa",
   "metadata": {},
   "outputs": [
    {
     "name": "stdout",
     "output_type": "stream",
     "text": [
      "Hello Hemanth\n"
     ]
    }
   ],
   "source": [
    "# 2. Ask the user to enter their name and a greeting. Concatenate the name and greeting to form a personalized message and print it.\n",
    "#     -Expected Input: name = \"John\", greeting = \"Hi\"\n",
    "#     -Expected Output: \"Hi John\"\n",
    "\n",
    "a = input(\"Enter your name: \")\n",
    "b = input(\"Enter a greeting: \")\n",
    "\n",
    "print(b + \" \" + a)"
   ]
  },
  {
   "cell_type": "code",
   "execution_count": 18,
   "id": "e1a42a5e",
   "metadata": {},
   "outputs": [
    {
     "name": "stdout",
     "output_type": "stream",
     "text": [
      "Hemanth Hemanth Hemanth Hemanth Hemanth \n"
     ]
    }
   ],
   "source": [
    "# 3. Create a string `word` and repeat it 5 times. Print the result.\n",
    "#     - Expected Input: word = \"Python\"\n",
    "#     - Expected Output: \"PythonPythonPythonPythonPython\"\n",
    "\n",
    "i = input(\"Enter a word: \")\n",
    "print(i*5)"
   ]
  },
  {
   "cell_type": "code",
   "execution_count": 25,
   "id": "2160efe5",
   "metadata": {},
   "outputs": [
    {
     "name": "stdout",
     "output_type": "stream",
     "text": [
      "Ram Ram Ram \n"
     ]
    }
   ],
   "source": [
    "# 4. Ask the user to enter a word and a number. Repeat the word as many times as the given number and print the result.\n",
    "#     - Expected Input: word = \"Hello\", number = 3\n",
    "#     - Expected Output: \"HelloHelloHello\"\n",
    "\n",
    "i = input(\"Enter a word: \")\n",
    "j = int(input(\"Enter no of times to be repeated: \"))\n",
    "\n",
    "#k = i * j\n",
    "print(i * j)"
   ]
  },
  {
   "cell_type": "code",
   "execution_count": 27,
   "id": "b0ebb04a",
   "metadata": {},
   "outputs": [
    {
     "name": "stdout",
     "output_type": "stream",
     "text": [
      "15\n"
     ]
    }
   ],
   "source": [
    "# 5. Create a string `sentence` and find its length. Print the length of the sentence.\n",
    "#     - Expected Input: sentence = \"This is a sample sentence.\"\n",
    "#     - Expected Output: 27\n",
    "\n",
    "sentence = input(\"Enter a Sentence : \")\n",
    "print(len(sentence))"
   ]
  },
  {
   "cell_type": "code",
   "execution_count": 32,
   "id": "2f3f09b4",
   "metadata": {},
   "outputs": [
    {
     "name": "stdout",
     "output_type": "stream",
     "text": [
      "11\n",
      "u\n",
      "you\n"
     ]
    }
   ],
   "source": [
    "# 6. Ask the user to input a sentence. Find the length of the sentence, and print the last character of the sentence.\n",
    "#     - Expected Output: Length of the sentence and the last character.\n",
    "\n",
    "i = input(\"Enter the sentence: \")\n",
    "\n",
    "j = i.split()\n",
    "\n",
    "print(len(i))\n",
    "print(i[-1])\n",
    "print(j[-1])"
   ]
  },
  {
   "cell_type": "code",
   "execution_count": null,
   "id": "c969a659",
   "metadata": {},
   "outputs": [
    {
     "name": "stdout",
     "output_type": "stream",
     "text": [
      "Hemanth Hemu\n"
     ]
    }
   ],
   "source": [
    "# 7. Create two strings `str1` and `str2`. Find the lengths of both strings and concatenate them. Print the concatenated string.\n",
    "#     - Expected Input: str1 = \"Hello\", str2 = \"World\"\n",
    "#     - Expected Output: \"HelloWorld\"\n",
    "\n",
    "# 8.Ask the user to enter two words, word1 and word2. Concatenate the two words with a space in between and print the result.\n",
    "\n",
    "str1 = input(\"Enter the first word: \")                      #Hemanth\n",
    "str2 = input(\"Enter the second word: \")                     #Hemu\n",
    "\n",
    "len(str1)\n",
    "len(str2)\n",
    "\n",
    "print(str1 + str2)"
   ]
  },
  {
   "cell_type": "code",
   "execution_count": 41,
   "id": "a6035544",
   "metadata": {},
   "outputs": [
    {
     "name": "stdout",
     "output_type": "stream",
     "text": [
      "*\n",
      "**\n",
      "***\n",
      "****\n",
      "*****\n"
     ]
    }
   ],
   "source": [
    "# Create a string pattern containing \"*\" character and repeat it to form a pattern. The pattern should have 5 rows. Print the resulting pattern.\n",
    "\n",
    "i = \"*\"\n",
    "\n",
    "for j in range(1, 6):\n",
    "    print(i * j)"
   ]
  },
  {
   "cell_type": "markdown",
   "id": "e07dbbfa",
   "metadata": {},
   "source": [
    "## Day 5\n",
    "\n",
    "Type Conversion"
   ]
  },
  {
   "cell_type": "markdown",
   "id": "e74187cb",
   "metadata": {},
   "source": [
    "### Questions to practice (Day - 5)"
   ]
  },
  {
   "cell_type": "code",
   "execution_count": 136,
   "id": "b1fe549f",
   "metadata": {},
   "outputs": [
    {
     "name": "stdout",
     "output_type": "stream",
     "text": [
      "42 <class 'int'>\n",
      "42 <class 'str'>\n"
     ]
    }
   ],
   "source": [
    "# Question 1:\n",
    "# Convert the integer 42 to a string.\n",
    "\n",
    "# Expected Input:\n",
    "\n",
    "# value = 42\n",
    "\n",
    "# Expected Output:\n",
    "\n",
    "# result = \"42\n",
    "\n",
    "i = int(input(\"Enter the number: \"))\n",
    "print(i, type(i))\n",
    "\n",
    "j = str(i)\n",
    "print(j, type(j))"
   ]
  },
  {
   "cell_type": "code",
   "execution_count": null,
   "id": "eedd7849",
   "metadata": {},
   "outputs": [
    {
     "name": "stdout",
     "output_type": "stream",
     "text": [
      "123 <class 'str'>\n",
      "123 <class 'int'>\n"
     ]
    }
   ],
   "source": [
    "# Question 2:\n",
    "# Convert the string \"123\" to an integer.\n",
    "\n",
    "# Expected Input:\n",
    "\n",
    "# value = \"123\"\n",
    "\n",
    "# Expected Output:\n",
    "\n",
    "# result = 123\n",
    "\n",
    "i = \"123\"\n",
    "print(i, type(i))\n",
    "\n",
    "j = int(i)\n",
    "print(j, type(j))\n"
   ]
  },
  {
   "cell_type": "code",
   "execution_count": null,
   "id": "0c1f50ea",
   "metadata": {},
   "outputs": [
    {
     "name": "stdout",
     "output_type": "stream",
     "text": [
      "3.14 <class 'float'>\n",
      "3 <class 'int'>\n",
      "5.5 <class 'str'>\n",
      "5.5 <class 'float'>\n"
     ]
    }
   ],
   "source": [
    "# Question 3:\n",
    "# Convert the float 3.14 to an integer.\n",
    "\n",
    "# Expected Input:\n",
    "\n",
    "# value = 3.14\n",
    "\n",
    "# Expected Output:\n",
    "\n",
    "# result = 3\n",
    "\n",
    "i = 3.14\n",
    "print(i, type(i))\n",
    "\n",
    "j = int(i)\n",
    "print(j, type(j))\n",
    "\n",
    "# Question 4:\n",
    "# Convert the string \"5.5\" to a floating-point number.\n",
    "\n",
    "# Expected Input:\n",
    "\n",
    "# value = \"5.5\"\n",
    "\n",
    "# Expected Output:\n",
    "\n",
    "# result = 5.5\n",
    "\n",
    "i = \"5.5\"\n",
    "print(i, type(i))\n",
    "\n",
    "j= float(i)\n",
    "print(j, type(j))"
   ]
  },
  {
   "cell_type": "code",
   "execution_count": null,
   "id": "90518d99",
   "metadata": {},
   "outputs": [
    {
     "name": "stdout",
     "output_type": "stream",
     "text": [
      "100 <class 'int'>\n",
      "result:  True\n",
      "True <class 'bool'>\n",
      "1 <class 'int'>\n",
      "False <class 'str'>\n",
      "True <class 'bool'>\n"
     ]
    }
   ],
   "source": [
    "# Question 5:\n",
    "# Convert the integer 100 to a boolean.\n",
    "\n",
    "# Expected Input:\n",
    "\n",
    "# value = 100\n",
    "\n",
    "# Expected Output:\n",
    "\n",
    "# result = True\n",
    "\n",
    "i = 100\n",
    "print(i, type(i))\n",
    "\n",
    "j = bool(i)\n",
    "print(\"result: \",j)\n",
    "\n",
    "# Question 6:\n",
    "# Convert the boolean True to an integer.\n",
    "\n",
    "# Expected Input:\n",
    "\n",
    "# value = True\n",
    "\n",
    "# Expected Output:\n",
    "\n",
    "# result = 1\n",
    "\n",
    "i = True\n",
    "print(i, type(i))\n",
    "\n",
    "j = int(i)\n",
    "print(j, type(j))\n",
    "\n",
    "# Question 7:\n",
    "# Convert the string `\"False\"` to a boolean.\n",
    "\n",
    "# Expected Input:\n",
    "\n",
    "# value = “False”\n",
    "\n",
    "# Expected Output:\n",
    "\n",
    "# result = True\n",
    "\n",
    "i = \"False\"\n",
    "print(i, type(i))\n",
    "\n",
    "j = bool(i)\n",
    "print(j, type(j))"
   ]
  },
  {
   "cell_type": "markdown",
   "id": "efba17e8",
   "metadata": {},
   "source": [
    "## Day 6\n",
    "\n",
    "String Indexing\n"
   ]
  },
  {
   "cell_type": "markdown",
   "id": "41c9a8d4",
   "metadata": {},
   "source": [
    "### Questions to practice (Day 6):"
   ]
  },
  {
   "cell_type": "code",
   "execution_count": null,
   "id": "d91490cb",
   "metadata": {},
   "outputs": [
    {
     "name": "stdout",
     "output_type": "stream",
     "text": [
      "T\n",
      ".\n",
      "o\n",
      "l\n",
      " to Pyt\n",
      "s brig\n",
      "Good t\n",
      "!emosewa si nohtyP\n",
      "14\n"
     ]
    }
   ],
   "source": [
    "# 1.Example: Get the first character of the sentence.\n",
    "# Input: \"The sun is shining.\"\n",
    "# Output: \"T\"\n",
    "\n",
    "i = \"The sun is shining.\"\n",
    "print(i[0])\n",
    "\n",
    "# 2.Example: Get the last character of the sentence.\n",
    "# Input: \"She sells seashells by the seashore.\"\n",
    "# Output: \".\"\n",
    "\n",
    "i = \"She sells seashells by the seashore.\"\n",
    "print(i[-1]) \n",
    "\n",
    "# 3.Example: Get the character at index 3.\n",
    "# Input: \"I love Python!\"\n",
    "# Output: \"o\"\n",
    "\n",
    "i = \"I love Python!\"\n",
    "print(i[3])\n",
    "\n",
    "# 4.Example: Get the second last character of the sentence.\n",
    "# Input: \"Life is beautiful.\"\n",
    "# Output: \"l\"\n",
    "\n",
    "i = \"Life is beautiful.\"\n",
    "print(i[-2])\n",
    "\n",
    "# 5.Example: Get a substring from index 7 to index 14 (exclusive).\n",
    "# Input: \"Welcome to Python programming.\"\n",
    "# Output: \" to Pyt\"\n",
    "\n",
    "i = \"Welcome to Python Progrmming.\"\n",
    "print(i[7:14])\n",
    "\n",
    "# 6.Example: Get a substring from index -9 to -3.\n",
    "# Input: \"The future is bright.\"\n",
    "# Output: \"s brig\"\n",
    "\n",
    "i = \"The future is bright.\" \n",
    "print(i[-9:-3])\n",
    "\n",
    "# 7.Example: Get the first six characters of the sentence.\n",
    "# Input: \"Good things take time.\"\n",
    "# Output: \"Good t\"\n",
    "\n",
    "i = \"Good things take time.\"\n",
    "print(i[0:6])\n",
    "\n",
    "# 8.Example: Reverse the sentence using slicing.\n",
    "# Input: \"Python is awesome!\"\n",
    "# Output: \"!emosewa si nohtyP\"\n",
    "\n",
    "i = \"Python is awesome!\"\n",
    "print(i[::-1])\n",
    "\n",
    "# 9.Example: Get the length of the sentence using indexing.\n",
    "# Input: \"Coding is fun!\"\n",
    "# Output: 14\n",
    "\n",
    "i = \"Coding is fun!\"\n",
    "print(len(i))"
   ]
  },
  {
   "cell_type": "markdown",
   "id": "717b2068",
   "metadata": {},
   "source": [
    "## Day 9 \n",
    "\n",
    "Conditional Statements( \"if, elif , else\")\n"
   ]
  },
  {
   "cell_type": "code",
   "execution_count": null,
   "id": "d0291d09",
   "metadata": {},
   "outputs": [
    {
     "name": "stdout",
     "output_type": "stream",
     "text": [
      "My name is Hemanth\n",
      "Get lost dumbass\n",
      "Yes!Your guess is correct\n",
      "Opps! My age is 22\n"
     ]
    }
   ],
   "source": [
    "a = \"Hemanth\"\n",
    "b = input(\"My wifes name is: \")\n",
    "c = int(input(\"Enter the age: \"))\n",
    "\n",
    "if a == \"Hemanth\":\n",
    "    print(\"My name is Hemanth\")\n",
    "if b ==  \"Ammulu\":\n",
    "    print(\"My wifes name is Ammulu\")\n",
    "else:\n",
    "    print(\"Get lost dumbass\")    \n",
    "if c >18:\n",
    "    print(\"Yes!Your guess is correct\")\n",
    "    if c== 22:\n",
    "        print(\"Yaaaa! My age is 22\")\n",
    "else:\n",
    "    print(\"No your guess is wrong\")\n",
    "if c == 22:\n",
    "    print(\"You gussed my correct age\")\n",
    "else:\n",
    "    print(\"Opps! My age is 22\")               "
   ]
  },
  {
   "cell_type": "markdown",
   "id": "caefbaab",
   "metadata": {},
   "source": [
    "### Questions to practice (Day 9):"
   ]
  },
  {
   "cell_type": "code",
   "execution_count": null,
   "id": "0ab8a02c",
   "metadata": {},
   "outputs": [
    {
     "name": "stdout",
     "output_type": "stream",
     "text": [
      "Even\n"
     ]
    }
   ],
   "source": [
    "# Question 1:\n",
    "# Write a program that takes a number as input and prints \"Even\" if it's an even number, and \"Odd\" if it's an odd number.\n",
    "# Expected Input:\n",
    "# Enter a number: 7\n",
    "# Expected Output:\n",
    "# Odd\n",
    "\n",
    "i = int(input(\"Enter a number: \"))                #42\n",
    "\n",
    "if i % 2 == 0:\n",
    "    print(\"Even\")\n",
    "else:\n",
    "    print(\"Odd\")"
   ]
  },
  {
   "cell_type": "code",
   "execution_count": null,
   "id": "ecec2391",
   "metadata": {},
   "outputs": [
    {
     "name": "stdout",
     "output_type": "stream",
     "text": [
      "63\n"
     ]
    }
   ],
   "source": [
    "# Question 2:\n",
    "# Write a program that takes two numbers as input and prints the larger number.\n",
    "# Expected Input:\n",
    "# Enter the first number: 15\n",
    "# Enter the second number: 22\n",
    "# Expected Output:\n",
    "# 22\n",
    "\n",
    "i = int(input(\"Enter the first number: \"))              # 63\n",
    "j = int(input(\"Enter the second number: \"))             # 42\n",
    "\n",
    "if i > j:\n",
    "    print(i)\n",
    "else:\n",
    "    print(j)\n",
    "\n"
   ]
  },
  {
   "cell_type": "code",
   "execution_count": null,
   "id": "e397990b",
   "metadata": {},
   "outputs": [
    {
     "name": "stdout",
     "output_type": "stream",
     "text": [
      "Consonant\n"
     ]
    }
   ],
   "source": [
    "# Question 3:\n",
    "# Write a program that takes a character as input and prints \"Vowel\" if it's a vowel (a, e, i, o, u), and \"Consonant\" otherwise.\n",
    "# Expected Input:\n",
    "# Enter a character: a\n",
    "# Expected Output:\n",
    "# Vowel\n",
    "\n",
    "i = input(\"Enter a character: \")            #v\n",
    "\n",
    "if i in 'a, e, i, o, u':\n",
    "    print(\"Vowel\")\n",
    "else:\n",
    "    print(\"Consonant\")"
   ]
  },
  {
   "cell_type": "code",
   "execution_count": null,
   "id": "824b6977",
   "metadata": {},
   "outputs": [
    {
     "name": "stdout",
     "output_type": "stream",
     "text": [
      "Not a Leap Year\n"
     ]
    }
   ],
   "source": [
    "# Question 4:\n",
    "# Write a program that takes a year as input and prints \"Leap Year\" if it's a leap year, and \"Not a Leap Year\" otherwise.\n",
    "# Expected Input:\n",
    "# Enter a year: 2024\n",
    "# Expected Output:\n",
    "# Leap Year\n",
    "\n",
    "i = int(input(\"Enter a year: \"))                # 2025\n",
    "\n",
    "if (i % 4 == 0 and i % 100 != 0) or (i % 400 == 0):\n",
    "    print(\"Leap Year\")\n",
    "else:\n",
    "    print(\"Not a Leap Year\")"
   ]
  },
  {
   "cell_type": "code",
   "execution_count": null,
   "id": "62706cd5",
   "metadata": {},
   "outputs": [
    {
     "name": "stdout",
     "output_type": "stream",
     "text": [
      "Mention the correct grades\n"
     ]
    }
   ],
   "source": [
    "# Question 5:\n",
    "# Write a program that takes a grade as input (A, B, C, D, or F) and prints \"Pass\" if it's A, B, C, or D, and \"Fail\" if it's F.\n",
    "# Expected Input:\n",
    "# Enter your grade: C ​\n",
    "# Expected Output:\n",
    "# Pass\n",
    "\n",
    "i = input(\"Enter you grade: \").upper()\n",
    "\n",
    "if i in 'A, B, C, D, E':\n",
    "    print(\"Pass\")\n",
    "elif i == \"F\":\n",
    "    print(\"Fail\")\n",
    "else:\n",
    "    print(\"Mention the correct grades\")"
   ]
  },
  {
   "cell_type": "markdown",
   "id": "0fd3d9e2",
   "metadata": {},
   "source": [
    "## Day 10\n",
    "\n",
    "Nested Conditional Statements"
   ]
  },
  {
   "cell_type": "markdown",
   "id": "7c62a94f",
   "metadata": {},
   "source": [
    "### Questions to practice (Day - 10)"
   ]
  },
  {
   "cell_type": "code",
   "execution_count": 109,
   "id": "6f7f8852",
   "metadata": {},
   "outputs": [
    {
     "name": "stdout",
     "output_type": "stream",
     "text": [
      "Zero\n"
     ]
    }
   ],
   "source": [
    "# Question 1:\n",
    "# Check if a given number num is positive, negative, or zero.\n",
    "# Expected Input:\n",
    "# num = 8 ​\n",
    "# Expected Output:\n",
    "# Positive\n",
    "\n",
    "\n",
    "i = int(input(\"Enter an integer: \"))\n",
    "\n",
    "if i > 0:\n",
    "    print(\"Positive\")\n",
    "elif i < 0:\n",
    "    print(\"Negative\")\n",
    "else:\n",
    "    print(\"Zero\")\n",
    "    "
   ]
  },
  {
   "cell_type": "code",
   "execution_count": 118,
   "id": "10c57a8f",
   "metadata": {},
   "outputs": [
    {
     "name": "stdout",
     "output_type": "stream",
     "text": [
      "Negative\n",
      "Even\n"
     ]
    }
   ],
   "source": [
    "# Question 2:\n",
    "# Determine the type of a given number num: even or odd, and whether it is positive or negative.\n",
    "# Expected Input:\n",
    "# num = -5\n",
    "# Expected Output:\n",
    "# Negative \n",
    "# Odd\n",
    "\n",
    "i = int(input(\"Enter a number: \"))\n",
    "\n",
    "if i>0:\n",
    "    print(\"Positive\")\n",
    "    if i%2 == 0:\n",
    "        print(\"Even\")\n",
    "    else:\n",
    "        print(\"Odd\")\n",
    "elif i<0:\n",
    "    print(\"Negative\")\n",
    "    if i%2 == 0:\n",
    "        print(\"Even\")\n",
    "    else:\n",
    "        print(\"Odd\")\n",
    "elif i == 0:\n",
    "    print(\"Neither positive nor negative\")\n",
    "\n"
   ]
  },
  {
   "cell_type": "code",
   "execution_count": 134,
   "id": "c06d4dda",
   "metadata": {},
   "outputs": [
    {
     "name": "stdout",
     "output_type": "stream",
     "text": [
      "Adult\n"
     ]
    }
   ],
   "source": [
    "# Question 3:\n",
    "# Classify a given age into four categories: baby, child, teenager, or adult.\n",
    "# Expected Input:\n",
    "# age = 16\n",
    "# Expected Output:\n",
    "# Teenager\n",
    "\n",
    "i = int(input(\"Ente the age: \"))\n",
    "\n",
    "if i in range(0,3):\n",
    "    print(\"Baby\")\n",
    "elif i in range(3,13):\n",
    "    print(\"Child\")\n",
    "elif i in range(13,20):\n",
    "    print(\"Teenage\")\n",
    "else:\n",
    "    print(\"Adult\")        \n"
   ]
  },
  {
   "cell_type": "code",
   "execution_count": 152,
   "id": "335b86e0",
   "metadata": {},
   "outputs": [
    {
     "name": "stdout",
     "output_type": "stream",
     "text": [
      "B\n"
     ]
    }
   ],
   "source": [
    "# Question 4:\n",
    "# Assign a grade to a given percentage, considering the following grade scale: A (90-100), B (80-89), C (70-79), D (60-69), and F (below 60).\n",
    "# Expected Input:\n",
    "# percentage = 78\n",
    "# Expected Output:\n",
    "# Grade: C\n",
    "\n",
    "i = int(input(\"Enter your percentage: \"))\n",
    "\n",
    "if (90 <= i <= 100):\n",
    "    print(\"A\")\n",
    "elif (80 <= i):\n",
    "    print(\"B\")\n",
    "elif (70 <= i):\n",
    "    print(\"C\")\n",
    "elif (60 <= i):\n",
    "    print(\"D\")\n",
    "elif (i < 60):\n",
    "    print(\"F\")\n"
   ]
  },
  {
   "cell_type": "code",
   "execution_count": 149,
   "id": "fca63e07",
   "metadata": {},
   "outputs": [
    {
     "name": "stdout",
     "output_type": "stream",
     "text": [
      "Not a Leap Year\n"
     ]
    }
   ],
   "source": [
    "# Question 5:\n",
    "# Check if a given year is a leap year, and if it is, find the number of days in February for that year.\n",
    "# Expected Input:\n",
    "# year = 2000\n",
    "# Expected Output:\n",
    "# Leap Year, February has 29 days\n",
    "\n",
    "i = int(input(\"Enter the year: \"))\n",
    "\n",
    "if (i % 4 == 0 and i % 100 != 0) or (i % 400 == 0):\n",
    "    print(\"Leap Year\")\n",
    "else:\n",
    "    print(\"Not a Leap Year\")"
   ]
  },
  {
   "cell_type": "code",
   "execution_count": null,
   "id": "9dc752a1",
   "metadata": {},
   "outputs": [],
   "source": [
    "#Prime number\n",
    "\n",
    "#i = int(input(\"Enter the number: \"))\n",
    "# if i == 2:\n",
    "#     print(\"Prime number\")\n",
    "# elif (i%2 == 0):\n",
    "#     print(\"Not a prime number\")\n",
    "# elif num in range(2,i) and i%num==0:\n",
    "#     print(\"Not a prime number\")\n",
    "# elif i == 1:\n",
    "#     print(\"Neither prime nor composite\")\n",
    "# else:\n",
    "#     print(\"Is a prime number\")\n",
    "\n",
    "\n",
    "j = int(input(\"Enter a number: \"))\n",
    "\n",
    "\n",
    "if j > 1:\n",
    "    for i in range(2, (int)(j**0.5)+1):\n",
    "        if j % i == 0:\n",
    "            print(\"Not Prime Number\")\n",
    "            break\n",
    "    else:\n",
    "        print(\"Prime Number\")\n",
    "elif i ==1 :\n",
    "    print(\"Neither Prime Number nor composite\")"
   ]
  },
  {
   "cell_type": "markdown",
   "id": "3131f25f",
   "metadata": {},
   "source": [
    "## Day 11\n",
    "\n",
    "While loop"
   ]
  },
  {
   "cell_type": "code",
   "execution_count": 5,
   "id": "13c6deac",
   "metadata": {},
   "outputs": [
    {
     "name": "stdout",
     "output_type": "stream",
     "text": [
      "1\n",
      "2\n",
      "3\n",
      "4\n",
      "5\n",
      "Hello Honey\n"
     ]
    }
   ],
   "source": [
    "i = 1\n",
    "while i<=5:\n",
    "    print(i)\n",
    "    i+=1\n",
    "print(\"Hello Honey\")    "
   ]
  },
  {
   "cell_type": "markdown",
   "id": "26ebe186",
   "metadata": {},
   "source": [
    "### Questions to practice (Day - 11)"
   ]
  },
  {
   "cell_type": "code",
   "execution_count": 6,
   "id": "189e8a37",
   "metadata": {},
   "outputs": [
    {
     "name": "stdout",
     "output_type": "stream",
     "text": [
      "1\n",
      "2\n",
      "3\n",
      "4\n",
      "5\n",
      "6\n",
      "7\n",
      "8\n",
      "9\n",
      "10\n"
     ]
    }
   ],
   "source": [
    "# Question 1:\n",
    "# Write a while loop that prints numbers from 1 to 10.\n",
    "\n",
    "i = 1\n",
    "while i<=10:\n",
    "    print(i)\n",
    "    i+=1"
   ]
  },
  {
   "cell_type": "code",
   "execution_count": null,
   "id": "d8e539cd",
   "metadata": {},
   "outputs": [
    {
     "name": "stdout",
     "output_type": "stream",
     "text": [
      "15\n"
     ]
    }
   ],
   "source": [
    "# Question 2:\n",
    "# Create a while loop that calculates the sum of numbers from 1 to n, where n is the input.\n",
    "# Expected Input: 5\n",
    "# Expected Output: 15 (1 + 2 + 3 + 4 + 5)\n",
    "\n",
    "n = int(input(\"Enter the number: \"))\n",
    "i = 1\n",
    "sum = 0\n",
    "\n",
    "while i<=n:\n",
    "    sum+= i\n",
    "    i+=1\n",
    " \n",
    "print(sum)"
   ]
  },
  {
   "cell_type": "code",
   "execution_count": 13,
   "id": "c4de34da",
   "metadata": {},
   "outputs": [
    {
     "name": "stdout",
     "output_type": "stream",
     "text": [
      "2\n",
      "4\n",
      "6\n",
      "8\n",
      "10\n"
     ]
    }
   ],
   "source": [
    "# Question 3:\n",
    "# Write a while loop that prints even numbers from 2 to 10.\n",
    "\n",
    "i = 2\n",
    "\n",
    "while i < 11:\n",
    "    print(i)\n",
    "    i += 2"
   ]
  },
  {
   "cell_type": "code",
   "execution_count": 14,
   "id": "9c9ffeb9",
   "metadata": {},
   "outputs": [],
   "source": [
    "while True:\n",
    "    num = int(input(\"Enter a number: \"))\n",
    "    if num < 0:\n",
    "        break"
   ]
  },
  {
   "cell_type": "code",
   "execution_count": null,
   "id": "5ce9ee90",
   "metadata": {},
   "outputs": [],
   "source": []
  },
  {
   "cell_type": "code",
   "execution_count": 17,
   "id": "009af73e",
   "metadata": {},
   "outputs": [
    {
     "name": "stdout",
     "output_type": "stream",
     "text": [
      "-10\n"
     ]
    }
   ],
   "source": [
    "# Question 4:\n",
    "# Create a while loop that keeps prompting the user for a number until they enter a negative number.\n",
    "# Expected Input: 5, 10, -2\n",
    "# Expected Output: (No output, just prompt for input)\n",
    "\n",
    "while True:\n",
    "    num = int(input(\"Enter a number: \"))\n",
    "    if num < 0:\n",
    "        print(num)\n",
    "        break\n",
    "    "
   ]
  },
  {
   "cell_type": "code",
   "execution_count": null,
   "id": "ba5e0ff1",
   "metadata": {},
   "outputs": [
    {
     "name": "stdout",
     "output_type": "stream",
     "text": [
      "10\n",
      "9\n",
      "8\n",
      "7\n",
      "6\n",
      "5\n",
      "4\n",
      "3\n",
      "2\n",
      "1\n"
     ]
    }
   ],
   "source": [
    "# Question 5\n",
    "# Write a while loop that counts down from 10 to 1.\n",
    "\n",
    "i = 10\n",
    "\n",
    "while i>0:\n",
    "    print(i)\n",
    "    i -=1\n"
   ]
  },
  {
   "cell_type": "code",
   "execution_count": 29,
   "id": "914e94a0",
   "metadata": {},
   "outputs": [
    {
     "name": "stdout",
     "output_type": "stream",
     "text": [
      "63\n"
     ]
    }
   ],
   "source": [
    "# Question 6:\n",
    "# Create a while loop that asks the user to guess a secret number (e.g., 7) and continues until the correct number is guessed.\n",
    "# Expected Output: (Depends on user input)\n",
    "\n",
    "i = 63\n",
    "guess = int(input(\"Guess the number: \"))\n",
    "\n",
    "while guess != i:\n",
    "        guess = int(input(\"Guess the secret number: \"))\n",
    "\n",
    "print(i)   \n",
    "        "
   ]
  },
  {
   "cell_type": "code",
   "execution_count": null,
   "id": "8c43acc7",
   "metadata": {},
   "outputs": [
    {
     "name": "stdout",
     "output_type": "stream",
     "text": [
      "24\n"
     ]
    }
   ],
   "source": [
    "# Question 7:\n",
    "# Write a while loop that calculates the factorial of a given number.\n",
    "# Expected Input: 4\n",
    "# Expected Output: 24 (4! = 4 * 3 * 2 * 1 = 24)\n",
    "\n",
    "product = 1\n",
    "n = int(input(\"Enter the number: \"))\n",
    "i = 1\n",
    "\n",
    "while i<=n:\n",
    "    product = product * i\n",
    "    i = i+1\n",
    "print(product)    \n"
   ]
  },
  {
   "cell_type": "code",
   "execution_count": null,
   "id": "27eee498",
   "metadata": {},
   "outputs": [
    {
     "name": "stdout",
     "output_type": "stream",
     "text": [
      "0 1 1 2 3 5 "
     ]
    }
   ],
   "source": [
    "# Question 8\n",
    "# Create a while loop that prints the Fibonacci series up to n.\n",
    "# Expected Input: 10\n",
    "\n",
    "a = 0\n",
    "b = 1\n",
    "n = int(input(\"Enter the number: \"))\n",
    "\n",
    "while a <= n:\n",
    "    print(a, end=' ')\n",
    "    a, b = b, a+b\n"
   ]
  },
  {
   "cell_type": "code",
   "execution_count": 59,
   "id": "914846e6",
   "metadata": {},
   "outputs": [
    {
     "name": "stdout",
     "output_type": "stream",
     "text": [
      "2\n",
      "6\n",
      "-1\n",
      "5\n",
      "12\n"
     ]
    }
   ],
   "source": [
    "# Question 9:\n",
    "# Write a while loop that reads numbers from the user until they enter the number 0. Then, it prints the sum of all the entered numbers.\n",
    "# Expected Input: 3, 5, 2, 0\n",
    "# Expected Output: 10 (3 + 5 + 2)\n",
    "\n",
    "i = int(input(\"Enter the number: \"))\n",
    "sum = i\n",
    "\n",
    "while i!=0:\n",
    "    print(i)\n",
    "    i = int(input(\"Enter the number: \"))\n",
    "   # print(i)\n",
    "    sum = sum + i\n",
    "\n",
    "print(sum)\n",
    "    "
   ]
  },
  {
   "cell_type": "code",
   "execution_count": 72,
   "id": "a6047334",
   "metadata": {},
   "outputs": [
    {
     "name": "stdout",
     "output_type": "stream",
     "text": [
      "1\n",
      "4\n",
      "9\n",
      "16\n",
      "25\n"
     ]
    }
   ],
   "source": [
    "# Question 10:\n",
    "# Create a while loop that prints the square of numbers from 1 to 5.\n",
    "\n",
    "i = 1\n",
    "\n",
    "while 0<i<6:\n",
    "    square = i**2\n",
    "    print(square)\n",
    "    i = i+1"
   ]
  },
  {
   "cell_type": "markdown",
   "id": "a0fd20b1",
   "metadata": {},
   "source": [
    "## Day 12\n",
    "\n",
    "For Loop"
   ]
  },
  {
   "cell_type": "code",
   "execution_count": 73,
   "id": "0e9d11c3",
   "metadata": {},
   "outputs": [
    {
     "name": "stdout",
     "output_type": "stream",
     "text": [
      "1\n",
      "2\n",
      "3\n",
      "4\n",
      "5\n"
     ]
    }
   ],
   "source": [
    "# Example: Printing numbers from 1 to 5 using a for loop\n",
    "for num in range(1, 6):\n",
    "    print(num)\n"
   ]
  },
  {
   "cell_type": "markdown",
   "id": "239c73db",
   "metadata": {},
   "source": [
    "### Questions to practice (Day - 12):"
   ]
  },
  {
   "cell_type": "code",
   "execution_count": null,
   "id": "d0643c0c",
   "metadata": {},
   "outputs": [
    {
     "name": "stdout",
     "output_type": "stream",
     "text": [
      "1\n",
      "2\n",
      "3\n",
      "4\n",
      "5\n"
     ]
    }
   ],
   "source": [
    "# 1.Write a for loop that prints all numbers from 1 to 5.\n",
    "\n",
    "for num in range(1, 6):\n",
    "    print(num)"
   ]
  },
  {
   "cell_type": "code",
   "execution_count": null,
   "id": "1b3a7e6d",
   "metadata": {},
   "outputs": [
    {
     "name": "stdout",
     "output_type": "stream",
     "text": [
      "55\n"
     ]
    }
   ],
   "source": [
    "# 2.Use a for loop to calculate the sum of numbers from 1 to 10.\n",
    "sum = 0 \n",
    "\n",
    "for i in range (1, 11):\n",
    "    sum = sum + i\n",
    "print(sum)"
   ]
  },
  {
   "cell_type": "markdown",
   "id": "93914795",
   "metadata": {},
   "source": [
    "How to print numbers in any array"
   ]
  },
  {
   "cell_type": "code",
   "execution_count": 3,
   "id": "ad3fc7d2",
   "metadata": {},
   "outputs": [
    {
     "name": "stdout",
     "output_type": "stream",
     "text": [
      "1 2 3 4 5 \n"
     ]
    }
   ],
   "source": [
    "a = \"\"\n",
    "for num in range(1, 6):\n",
    "    a = a + str(num) + \" \"\n",
    "print(a)    \n"
   ]
  },
  {
   "cell_type": "code",
   "execution_count": null,
   "id": "1663bc6b",
   "metadata": {},
   "outputs": [
    {
     "name": "stdout",
     "output_type": "stream",
     "text": [
      "H\n",
      "e\n",
      "l\n",
      "l\n",
      "o\n"
     ]
    }
   ],
   "source": [
    "# 3.Write a for loop to print each character in the string \"Hello\"\n",
    "\n",
    "for  char in \"Hello\":\n",
    "    print(char)"
   ]
  },
  {
   "cell_type": "code",
   "execution_count": 86,
   "id": "1f1c8a1b",
   "metadata": {},
   "outputs": [
    {
     "name": "stdout",
     "output_type": "stream",
     "text": [
      "0\n",
      "2\n",
      "4\n",
      "6\n",
      "8\n",
      "10\n",
      "12\n",
      "14\n",
      "16\n",
      "18\n"
     ]
    }
   ],
   "source": [
    "# 4.Write a for loop to print the first 10 even numbers.\n",
    "\n",
    "for i in range (10):\n",
    "    print(i*2)"
   ]
  },
  {
   "cell_type": "code",
   "execution_count": null,
   "id": "15534842",
   "metadata": {},
   "outputs": [
    {
     "name": "stdout",
     "output_type": "stream",
     "text": [
      "2\n",
      "4\n",
      "6\n",
      "8\n",
      "10\n"
     ]
    }
   ],
   "source": [
    "# 5.Create a for loop that doubles each number in the sequence: 1, 2, 3, 4, 5.\n",
    "\n",
    "for i in range (1,6):\n",
    "    i = i*2\n",
    "    print(i)"
   ]
  },
  {
   "cell_type": "markdown",
   "id": "035cfb9a",
   "metadata": {},
   "source": [
    "## Day 13\n",
    "\n",
    "String Methods"
   ]
  },
  {
   "cell_type": "code",
   "execution_count": null,
   "id": "309430c3",
   "metadata": {},
   "outputs": [
    {
     "name": "stdout",
     "output_type": "stream",
     "text": [
      "11\n"
     ]
    }
   ],
   "source": [
    "a = \"Hello Milo!\"\n",
    "print(len(a))                       #length of the string len()"
   ]
  },
  {
   "cell_type": "code",
   "execution_count": 5,
   "id": "88ae2e60",
   "metadata": {},
   "outputs": [
    {
     "name": "stdout",
     "output_type": "stream",
     "text": [
      "  hello honey  \n",
      "  HELLO HONEY  \n",
      "Hello Honey\n",
      "  Hello Sweety  \n",
      "['vizag', 'hyd', 'chennai', 'bng', 'mumbai']\n",
      "True\n",
      "True\n",
      "4\n",
      "True\n",
      "False\n"
     ]
    }
   ],
   "source": [
    "a = \"  Hello Honey  \"\n",
    "b = \"vizag,hyd,chennai,bng,mumbai\"\n",
    "c = \"123456\"\n",
    "print(a.lower())                        #all lower cases\n",
    "print(a.upper())                        #all upper cases\n",
    "print(a.strip())                        #removes ending spaces\n",
    "print(a.replace(\"Honey\" , \"Sweety\"))    #replaces words or characters\n",
    "print(b.split(\",\"))                     #splits string into a list of substrings based on delimeters like ',' , ';' , ' : ' etc\n",
    "print(a.startswith(\" \"))                #if it starts with the given word\n",
    "print(a.endswith(\" \"))                  #if it ends with the given word\n",
    "print(a.find(\"l\"))                      #finds the first instance of the char or word\n",
    "print(c.isdigit())                      #checks if all the chars in the string are digits \n",
    "print(a.isalpha())                      #checks if all the chars in the string are alphabets\n",
    "\n",
    "\n"
   ]
  },
  {
   "cell_type": "markdown",
   "id": "9043750a",
   "metadata": {},
   "source": [
    "### Questions to practice (Day - 13):"
   ]
  },
  {
   "cell_type": "code",
   "execution_count": null,
   "id": "772dbb56",
   "metadata": {},
   "outputs": [
    {
     "name": "stdout",
     "output_type": "stream",
     "text": [
      "hello this hemanth and veda\n"
     ]
    }
   ],
   "source": [
    "# 1.Write a Python program that takes a user input string and converts it to lowercase using the lower() method.\n",
    "# Input: \"Hello, World!\"\n",
    "# Expected Output: \"hello, world!\"\n",
    "\n",
    "i = input(\"Enter the string\").lower()       # Hello tHis HEmAnTh and VeDa\n",
    "print(i)"
   ]
  },
  {
   "cell_type": "code",
   "execution_count": 8,
   "id": "b563ea77",
   "metadata": {},
   "outputs": [
    {
     "name": "stdout",
     "output_type": "stream",
     "text": [
      "13\n"
     ]
    }
   ],
   "source": [
    "# 2.Given a string \"Hello, World!\", find its length using the len() method.\n",
    "# Input: \"Hello, World!\"\n",
    "# Expected Output: 13\n",
    "\n",
    "i = \"Hello, world!\"\n",
    "print(len(i))"
   ]
  },
  {
   "cell_type": "code",
   "execution_count": 9,
   "id": "505fb823",
   "metadata": {},
   "outputs": [
    {
     "name": "stdout",
     "output_type": "stream",
     "text": [
      "HELLO, WORLS!\n"
     ]
    }
   ],
   "source": [
    "# 3.Write a Python function that takes a string as input and converts it to uppercase using the upper() method.\n",
    "# Input: \"Hello, World!\"\n",
    "# Expected Output: \"HELLO, WORLD!\"\n",
    " \n",
    "i = input(\"Enter the string: \").upper()\n",
    "print(i)"
   ]
  },
  {
   "cell_type": "code",
   "execution_count": 10,
   "id": "04ea9a72",
   "metadata": {},
   "outputs": [
    {
     "name": "stdout",
     "output_type": "stream",
     "text": [
      "False\n"
     ]
    }
   ],
   "source": [
    "# 4.Given a string \"Hello123\", check if it contains only alphabetic characters using the isalpha() method.\n",
    "# Input: \"Hello123\"\n",
    "# Expected Output: False\n",
    "\n",
    "i = \"Hello123\"\n",
    "print(i.isalpha())"
   ]
  },
  {
   "cell_type": "code",
   "execution_count": 11,
   "id": "10dcf02f",
   "metadata": {},
   "outputs": [
    {
     "name": "stdout",
     "output_type": "stream",
     "text": [
      "Hemanth\n"
     ]
    }
   ],
   "source": [
    "# 5.Write a Python program that takes a user input string with leading and trailing whitespaces and removes them using the strip() method.\n",
    "# Input: \" Python Programming \"\n",
    "# Expected Output: \"Python Programming\"\n",
    "\n",
    "i = input(\"Enter the string with tailing spaces: \").strip()\n",
    "print(i)"
   ]
  },
  {
   "cell_type": "code",
   "execution_count": 16,
   "id": "693e6423",
   "metadata": {},
   "outputs": [
    {
     "name": "stdout",
     "output_type": "stream",
     "text": [
      "I\n",
      "love\n",
      "Python\n",
      "Programming\n"
     ]
    }
   ],
   "source": [
    "# 6.Given a string \"I love Python programming\", split it into words using the split() method and print each word on a new line.\n",
    "# Input: \"I love Python programming\"\n",
    "# Expected Output:\n",
    "\n",
    "i = \"I love Python Programming\".split()\n",
    "\n",
    "for j in i:\n",
    "    print(j)"
   ]
  },
  {
   "cell_type": "code",
   "execution_count": 17,
   "id": "8f3e994f",
   "metadata": {},
   "outputs": [
    {
     "name": "stdout",
     "output_type": "stream",
     "text": [
      "I love Java programming, Java is great.\n"
     ]
    }
   ],
   "source": [
    "# 7.Write a Python program that takes a user input string and replaces all occurrences of \"Python\" with \"Java\" using the replace() method.\n",
    "# Input: \"I love Python programming, Python is great.\"\n",
    "# Expected Output: \"I love Java programming, Java is great.\"\n",
    "\n",
    "i = \"I love Python programming, Python is great.\"\n",
    "print(i.replace(\"Python\",\"Java\"))"
   ]
  },
  {
   "cell_type": "code",
   "execution_count": 18,
   "id": "e76d7ded",
   "metadata": {},
   "outputs": [
    {
     "name": "stdout",
     "output_type": "stream",
     "text": [
      "True\n"
     ]
    }
   ],
   "source": [
    "# 8.Given a string \"Hello, World!\", check if it starts with the word \"Hello\" using the startswith() method.\n",
    "# Input: \"Hello, World!\"\n",
    "# Expected Output: True\n",
    "\n",
    "i = \"Hello, World!\".startswith(\"Hello\")\n",
    "print(i)"
   ]
  },
  {
   "cell_type": "code",
   "execution_count": null,
   "id": "ea22aa1a",
   "metadata": {},
   "outputs": [
    {
     "name": "stdout",
     "output_type": "stream",
     "text": [
      "True\n"
     ]
    }
   ],
   "source": [
    "# 9.Write a Python function that takes a string as input and checks if it ends with the word \"end\" using the endswith() method.\n",
    "# Input: \"Hello, World!\"\n",
    "# Expected Output: False\n",
    "\n",
    "i = input(\"Enter the string\").endswith(\"end\")          # Hello this is the worlds end\n",
    "print(i)"
   ]
  },
  {
   "cell_type": "code",
   "execution_count": 21,
   "id": "ed8b3237",
   "metadata": {},
   "outputs": [
    {
     "name": "stdout",
     "output_type": "stream",
     "text": [
      "3\n"
     ]
    }
   ],
   "source": [
    "# 10.Given a string \"banana\", count the occurrences of the letter \"a\" using the count() method.\n",
    "# Input: \"banana\"\n",
    "# Expected Output: 3\n",
    "\n",
    "i = \"banana\".count(\"a\")\n",
    "print(i)"
   ]
  },
  {
   "cell_type": "code",
   "execution_count": 22,
   "id": "f16ef132",
   "metadata": {},
   "outputs": [
    {
     "name": "stdout",
     "output_type": "stream",
     "text": [
      "2\n"
     ]
    }
   ],
   "source": [
    "# 11.Write a Python program that takes a user input string and finds the index of the first occurrence of the letter \"l\" using the find() method.\n",
    "# Input: \"Hello, World!\"\n",
    "# Expected Output: 2\n",
    "\n",
    "i = input(\"Enter the string: \").find(\"l\")\n",
    "print(i)"
   ]
  },
  {
   "cell_type": "code",
   "execution_count": null,
   "id": "db4319c8",
   "metadata": {},
   "outputs": [
    {
     "name": "stdout",
     "output_type": "stream",
     "text": [
      "True\n"
     ]
    }
   ],
   "source": [
    "# 12.Given a string \"12345\", check if it consists of only digits using the isdigit() method.\n",
    "# Input: \"12345\"\n",
    "# Expected Output: True\n",
    "\n",
    "i = \"12345\".isdigit()\n",
    "print(i)"
   ]
  },
  {
   "cell_type": "markdown",
   "id": "43b0f40b",
   "metadata": {},
   "source": [
    "## Day 14\n",
    "\n",
    "Nested Loops"
   ]
  },
  {
   "cell_type": "code",
   "execution_count": 27,
   "id": "762d4a89",
   "metadata": {},
   "outputs": [
    {
     "name": "stdout",
     "output_type": "stream",
     "text": [
      "* * * \n",
      "* * * \n",
      "* * * \n"
     ]
    }
   ],
   "source": [
    "# Example: Print a 3x3 rectangular pattern using nested loops\n",
    "\n",
    "for i in range(3):\n",
    "    for j in range(3):\n",
    "        print(\"*\", end= \" \")\n",
    "    print()    "
   ]
  },
  {
   "cell_type": "code",
   "execution_count": 31,
   "id": "6760db83",
   "metadata": {},
   "outputs": [
    {
     "name": "stdout",
     "output_type": "stream",
     "text": [
      "* \n",
      "* * \n",
      "* * * \n",
      "* * * * \n",
      "* * * * * \n"
     ]
    }
   ],
   "source": [
    "# Example: Print a right-angled triangle pattern using nested loops\n",
    "\n",
    "for i in range(1, 6):\n",
    "    for j in range(i):\n",
    "        print(\"*\", end=\" \")\n",
    "    print()    "
   ]
  },
  {
   "cell_type": "markdown",
   "id": "cc6bc4e2",
   "metadata": {},
   "source": [
    "### Questions to practice (Day - 14):\n"
   ]
  },
  {
   "cell_type": "code",
   "execution_count": 33,
   "id": "2223a3a5",
   "metadata": {},
   "outputs": [
    {
     "name": "stdout",
     "output_type": "stream",
     "text": [
      "* * * * \n",
      "* * * * \n",
      "* * * * \n",
      "* * * * \n"
     ]
    }
   ],
   "source": [
    "# 1.Write a nested loop that prints a square pattern of stars (asterisks).\n",
    "\n",
    "for i in range(4):\n",
    "    for j in range(4):\n",
    "        print(\"*\", end=\" \")\n",
    "    print()    "
   ]
  },
  {
   "cell_type": "code",
   "execution_count": null,
   "id": "b01a882f",
   "metadata": {},
   "outputs": [
    {
     "name": "stdout",
     "output_type": "stream",
     "text": [
      "1 2 3 4 5 \n",
      "2 4 6 8 10 \n",
      "3 6 9 12 15 \n",
      "4 8 12 16 20 \n",
      "5 10 15 20 25 \n"
     ]
    }
   ],
   "source": [
    "# 2.Create a nested loop to print the multiplication table from 1 to 5 (up to 10 times each).\n",
    "\n",
    "for i in range(1,6):\n",
    "    for j in range(1,6):\n",
    "        print(i*j, end=\" \")\n",
    "    print()    "
   ]
  },
  {
   "cell_type": "code",
   "execution_count": null,
   "id": "a70ab0ce",
   "metadata": {},
   "outputs": [
    {
     "name": "stdout",
     "output_type": "stream",
     "text": [
      "\n",
      "1 \n",
      "1 2 \n",
      "1 2 3 \n",
      "1 2 3 4 \n",
      "1 2 3 4 5 \n"
     ]
    }
   ],
   "source": [
    "# 3.Write a nested loop to print a right-angled triangle of numbers in ascending order.\n",
    "\n",
    "for i in range (1,7):\n",
    "    for j in range(1,i):\n",
    "        print(j, end=\" \")\n",
    "    print()    "
   ]
  },
  {
   "cell_type": "code",
   "execution_count": 73,
   "id": "a7999ee6",
   "metadata": {},
   "outputs": [
    {
     "name": "stdout",
     "output_type": "stream",
     "text": [
      "* * * * * * \n",
      "*         * \n",
      "*         * \n",
      "*         * \n",
      "*         * \n",
      "* * * * * * \n"
     ]
    }
   ],
   "source": [
    "# 4.Create a nested loop that prints a hollow square pattern of stars (asterisks).\n",
    "\n",
    "for i in range (6):\n",
    "    for j in range(6):\n",
    "        if i == 0 or i == 5 or j == 0 or j == 5:\n",
    "            print(\"*\", end=\" \")\n",
    "        else:\n",
    "            print(\" \", end=\" \")    \n",
    "    print()    \n"
   ]
  },
  {
   "cell_type": "code",
   "execution_count": null,
   "id": "5783e299",
   "metadata": {},
   "outputs": [
    {
     "name": "stdout",
     "output_type": "stream",
     "text": [
      "15\n"
     ]
    }
   ],
   "source": [
    "# 5.Write a nested loop to calculate and print the sum of numbers from 1 to 5 using nested iteration.\n",
    "\n",
    "sum = 0\n",
    "\n",
    "for i in range(1):\n",
    "    for j in range(1,6):\n",
    "        sum = sum+j\n",
    "    print(sum)"
   ]
  },
  {
   "cell_type": "code",
   "execution_count": 92,
   "id": "22549a7a",
   "metadata": {},
   "outputs": [
    {
     "name": "stdout",
     "output_type": "stream",
     "text": [
      "5   4   3   2   1   \n",
      "10   8   6   4   2   \n",
      "15   12   9   6   3   \n",
      "20   16   12   8   4   \n",
      "25   20   15   10   5   \n"
     ]
    }
   ],
   "source": [
    "# 6.Ceate a nested loop to print the reverse of the multiplication table from 1 to 5 (up to 10 times each).\n",
    "\n",
    "for i in range (1,6):\n",
    "    for j in range(5,0,-1):\n",
    "        print(i*j, end=\"   \")\n",
    "    print()    \n"
   ]
  },
  {
   "cell_type": "code",
   "execution_count": null,
   "id": "9ca61931",
   "metadata": {},
   "outputs": [
    {
     "name": "stdout",
     "output_type": "stream",
     "text": [
      "\n",
      "*\n",
      "**\n",
      "***\n",
      "****\n",
      "*****\n"
     ]
    }
   ],
   "source": [
    "# 7.Write a nested loop that prints a right-angled triangle of stars \n",
    "\n",
    "for i in range(6):\n",
    "    for j in range(i):\n",
    "        print(\"*\", end=\"\")\n",
    "    print()    "
   ]
  },
  {
   "cell_type": "code",
   "execution_count": null,
   "id": "9d7ff34a",
   "metadata": {},
   "outputs": [
    {
     "name": "stdout",
     "output_type": "stream",
     "text": [
      "2 3 5 7 11 13 17 19 "
     ]
    }
   ],
   "source": [
    "# 8.Create a nested loop to find and print prime numbers from 2 to 20.\n",
    "\n",
    "for j in range(2,21):\n",
    "    for i in range(2, (int)(j**0.5)+1):\n",
    "        if j % i == 0:\n",
    "            break\n",
    "    else:\n",
    "        print(j, end=\" \")"
   ]
  },
  {
   "cell_type": "code",
   "execution_count": 101,
   "id": "126010de",
   "metadata": {},
   "outputs": [
    {
     "name": "stdout",
     "output_type": "stream",
     "text": [
      "            * \n",
      "          * * * \n",
      "        * * * * * \n",
      "      * * * * * * * \n",
      "    * * * * * * * * * \n",
      "  * * * * * * * * * * * \n",
      "    * * * * * * * * * \n",
      "      * * * * * * * \n",
      "        * * * * * \n",
      "          * * * \n",
      "            * \n"
     ]
    }
   ],
   "source": [
    "# 9.Write a nested loop that prints a diamond pattern of stars (asterisks).\n",
    "\n",
    "for i in range(1, 6):\n",
    "    for j in range(n-i):\n",
    "        print(\" \", end=\" \")\n",
    "    for k in range(2 * i - 1):\n",
    "        print(\"*\", end=\" \")\n",
    "    print() \n",
    "\n",
    "for i in range(n - 1, 0, -1):\n",
    "\n",
    "    for j in range(n-i):\n",
    "        print(\" \", end=\" \")\n",
    "    for k in range(2 * i - 1):\n",
    "        print(\"*\", end=\" \")\n",
    "    print()            \n"
   ]
  },
  {
   "cell_type": "code",
   "execution_count": 105,
   "id": "eed8a546",
   "metadata": {},
   "outputs": [
    {
     "name": "stdout",
     "output_type": "stream",
     "text": [
      "1\n",
      "2\n",
      "6\n",
      "24\n",
      "120\n"
     ]
    }
   ],
   "source": [
    "# 10.Create a nested loop to find and print the factorial of numbers from 1 to 5.\n",
    "\n",
    "for i in range(1,6):\n",
    "    j = 1\n",
    "\n",
    "    for i in range(1, i+1):\n",
    "        j = j * i\n",
    "    print(j)\n"
   ]
  },
  {
   "cell_type": "markdown",
   "id": "5cb6edf9",
   "metadata": {},
   "source": [
    "## Dayy 15\n",
    "\n",
    "Lop Control Statements"
   ]
  },
  {
   "cell_type": "code",
   "execution_count": 1,
   "id": "1a4723f3",
   "metadata": {},
   "outputs": [
    {
     "name": "stdout",
     "output_type": "stream",
     "text": [
      "1\n",
      "2\n"
     ]
    }
   ],
   "source": [
    "# Example: Using 'break' to stop the loop when the value reaches 3\n",
    "\n",
    "for num in range(1,5):\n",
    "    if num == 3:\n",
    "        break\n",
    "    print(num)"
   ]
  },
  {
   "cell_type": "code",
   "execution_count": 2,
   "id": "4bd75c9a",
   "metadata": {},
   "outputs": [
    {
     "name": "stdout",
     "output_type": "stream",
     "text": [
      "1\n",
      "3\n",
      "5\n"
     ]
    }
   ],
   "source": [
    "# Example: Using 'continue' to skip printing even numbers\n",
    "\n",
    "for num in range(1,6):\n",
    "    if num % 2 == 0:\n",
    "        continue\n",
    "    print(num)"
   ]
  },
  {
   "cell_type": "code",
   "execution_count": 3,
   "id": "d0ce1d8f",
   "metadata": {},
   "outputs": [],
   "source": [
    "# Example: Using 'pass' to do nothing inside the loop\n",
    "\n",
    "for num in range(6):\n",
    "    pass"
   ]
  },
  {
   "cell_type": "markdown",
   "id": "aecc4781",
   "metadata": {},
   "source": [
    "### Questions to practice (Day - 15):"
   ]
  },
  {
   "cell_type": "code",
   "execution_count": 4,
   "id": "f160c9ef",
   "metadata": {},
   "outputs": [
    {
     "name": "stdout",
     "output_type": "stream",
     "text": [
      "1\n",
      "2\n",
      "3\n",
      "4\n"
     ]
    }
   ],
   "source": [
    "# 1.Write a Python program to print all numbers from 1 to 10, but stop the loop immediately when reaching 5 using the break statement.\n",
    "\n",
    "for num in range(1,10):\n",
    "    if num == 5:\n",
    "        break\n",
    "    print(num)"
   ]
  },
  {
   "cell_type": "code",
   "execution_count": 5,
   "id": "88c4a8df",
   "metadata": {},
   "outputs": [
    {
     "name": "stdout",
     "output_type": "stream",
     "text": [
      "1\n",
      "2\n",
      "4\n",
      "5\n"
     ]
    }
   ],
   "source": [
    "# 2.Given a list of numbers [1, 2, 3, 4, 5], use a for loop to print the elements one by one. However, if the element is 3, skip it using the continue statement.\n",
    "\n",
    "my_list = [1, 2, 3, 4, 5]\n",
    "\n",
    "for num in my_list:\n",
    "    if num == 3:\n",
    "        continue\n",
    "    print(num)"
   ]
  },
  {
   "cell_type": "code",
   "execution_count": 7,
   "id": "5b21bcea",
   "metadata": {},
   "outputs": [
    {
     "name": "stdout",
     "output_type": "stream",
     "text": [
      "hello\n",
      "Found 'o' \n"
     ]
    }
   ],
   "source": [
    "# 3.Write a Python function that takes a string as input and checks if it contains the letter 'o'. If it does, print \"Found 'o'\" and use the break statement to stop searching.\n",
    "\n",
    "i = input(\"Enter a string: \")\n",
    "\n",
    "print(i)\n",
    "\n",
    "for each in i:\n",
    "    if i == \"o\":\n",
    "        break\n",
    "print(\"Found 'o' \")\n",
    "\n",
    "\n"
   ]
  },
  {
   "cell_type": "code",
   "execution_count": 9,
   "id": "6f9b40ed",
   "metadata": {},
   "outputs": [
    {
     "name": "stdout",
     "output_type": "stream",
     "text": [
      "2\n",
      "4\n",
      "6\n",
      "10\n"
     ]
    }
   ],
   "source": [
    "# 4.Given a list of numbers [1, 2, 3, 4, 5], use a for loop to double each element and print the result. However, if the element is 4, use the continue statement to skip it.\n",
    "\n",
    "list = [1,2,3,4,5]\n",
    "\n",
    "for i in list:\n",
    "    if i == 4:\n",
    "        continue\n",
    "    print(i*2)"
   ]
  },
  {
   "cell_type": "code",
   "execution_count": 11,
   "id": "09210028",
   "metadata": {},
   "outputs": [
    {
     "name": "stdout",
     "output_type": "stream",
     "text": [
      "1\n",
      "2\n",
      "3\n",
      "4\n",
      "5\n",
      "6\n",
      "7\n",
      "8\n",
      "9\n",
      "10\n",
      "11\n",
      "12\n",
      "13\n",
      "14\n"
     ]
    }
   ],
   "source": [
    "# 5.Write a Python program to print all numbers from 1 to 20 using a while loop. However, stop the loop when reaching 15 using the break statement.\n",
    "\n",
    "for i in range(1,21):\n",
    "    if i == 15:\n",
    "        break\n",
    "    print(i)"
   ]
  },
  {
   "cell_type": "markdown",
   "id": "c2869e01",
   "metadata": {},
   "source": [
    "## Day 16\n",
    "\n",
    "Commparing Strings in Python"
   ]
  },
  {
   "cell_type": "code",
   "execution_count": 13,
   "id": "dce0b4e8",
   "metadata": {},
   "outputs": [
    {
     "name": "stdout",
     "output_type": "stream",
     "text": [
      "Both strings are not equal\n",
      "Both strings are not equal\n"
     ]
    }
   ],
   "source": [
    "string1 = \"Hello\"\n",
    "string2 = \"hello\"\n",
    "\n",
    "if string1 == string2:\n",
    "    print(\"Both strings are equal\")\n",
    "else:\n",
    "    print(\"Both strings are not equal\")\n",
    "\n",
    "if string1 != string2:\n",
    "    print(\"Both strings are not equal\")\n",
    "else:\n",
    "    print(\"Both strings are equal.\")    "
   ]
  },
  {
   "cell_type": "code",
   "execution_count": 20,
   "id": "90f454e2",
   "metadata": {},
   "outputs": [
    {
     "name": "stdout",
     "output_type": "stream",
     "text": [
      "False\n",
      "False\n",
      "True\n",
      "False\n"
     ]
    }
   ],
   "source": [
    "string1 = \"apple\"\n",
    "string2 = \"banana\"\n",
    "\n",
    "print(string1 > string2)\n",
    "\n",
    "print( string1 == string2)\n",
    "\n",
    "print(string1 < string2)\n",
    "\n",
    "print(string1 >= string2)"
   ]
  },
  {
   "cell_type": "markdown",
   "id": "87ba0e53",
   "metadata": {},
   "source": [
    "### Questions to practice (Day - 16):"
   ]
  },
  {
   "cell_type": "code",
   "execution_count": 21,
   "id": "416f4be6",
   "metadata": {},
   "outputs": [
    {
     "name": "stdout",
     "output_type": "stream",
     "text": [
      "False\n"
     ]
    }
   ],
   "source": [
    "# 1.Given two strings \"Python\" and \"python\", check if they are equal using the equality operator (==).\n",
    "\n",
    "str1 = \"Python\"\n",
    "str2 = \"python\"\n",
    "\n",
    "print(str1 == str2)"
   ]
  },
  {
   "cell_type": "code",
   "execution_count": 23,
   "id": "fb0e4d0f",
   "metadata": {},
   "outputs": [
    {
     "name": "stdout",
     "output_type": "stream",
     "text": [
      "True\n"
     ]
    }
   ],
   "source": [
    "# 2.Write a Python function that takes a string as input and checks if it is an empty string using the equality operator (==).\n",
    "\n",
    "str1 = input(\"Enter the string:\")\n",
    "\n",
    "print(str1 == \"\")"
   ]
  },
  {
   "cell_type": "markdown",
   "id": "683570b9",
   "metadata": {},
   "source": [
    "## Day 17\n",
    "\n",
    "Lists"
   ]
  },
  {
   "cell_type": "markdown",
   "id": "d95db98b",
   "metadata": {},
   "source": [
    "### Creating Lists:"
   ]
  },
  {
   "cell_type": "code",
   "execution_count": 29,
   "id": "42fb3bd6",
   "metadata": {},
   "outputs": [
    {
     "name": "stdout",
     "output_type": "stream",
     "text": [
      "[1, 2, 3, 4, 5]\n",
      "['apple', 'banana', 'orange']\n",
      "[1, 'Apple', True, 3.1452]\n"
     ]
    }
   ],
   "source": [
    "num = [1,2,3,4,5]\n",
    "\n",
    "print(num)\n",
    "\n",
    "fruits = [\"apple\", \"banana\", \"orange\"]\n",
    "print(fruits)\n",
    "\n",
    "mix = [1, \"Apple\", True, 3.1452]\n",
    "print(mix)"
   ]
  },
  {
   "cell_type": "markdown",
   "id": "82708cb5",
   "metadata": {},
   "source": [
    "### Accessing Elements:"
   ]
  },
  {
   "cell_type": "code",
   "execution_count": 31,
   "id": "90414744",
   "metadata": {},
   "outputs": [
    {
     "name": "stdout",
     "output_type": "stream",
     "text": [
      "apple\n",
      "Mango\n"
     ]
    }
   ],
   "source": [
    "fruits = [\"apple\", \"banana\", \"Mango\"]\n",
    "\n",
    "print(fruits[0])\n",
    "\n",
    "print(fruits[2])"
   ]
  },
  {
   "cell_type": "markdown",
   "id": "accf52e7",
   "metadata": {},
   "source": [
    "### Modifying Elements:"
   ]
  },
  {
   "cell_type": "code",
   "execution_count": 32,
   "id": "847555f5",
   "metadata": {},
   "outputs": [
    {
     "name": "stdout",
     "output_type": "stream",
     "text": [
      "['apple', 'grapes', 'Mango']\n"
     ]
    }
   ],
   "source": [
    "fruits = [\"apple\", \"banana\", \"Mango\"]\n",
    "\n",
    "fruits[1] = \"grapes\"\n",
    "\n",
    "print(fruits)"
   ]
  },
  {
   "cell_type": "markdown",
   "id": "d558a29d",
   "metadata": {},
   "source": [
    "### List Operations"
   ]
  },
  {
   "cell_type": "code",
   "execution_count": 35,
   "id": "5cc8350a",
   "metadata": {},
   "outputs": [
    {
     "name": "stdout",
     "output_type": "stream",
     "text": [
      "[1, 2, 30, 5, 6, 24]\n",
      "[1, 2, 30, 1, 2, 30, 1, 2, 30, 1, 2, 30]\n",
      "None\n"
     ]
    }
   ],
   "source": [
    "list1 = [1, 2, 30]\n",
    "list2 = [5, 6, 24]\n",
    "\n",
    "# Concantenation\n",
    "\n",
    "result = list1 + list2\n",
    "print(result)\n",
    "\n",
    "# repetition\n",
    "r_list1 = list1 * 4\n",
    "print(r_list1)\n",
    "\n",
    "print(result.sort())"
   ]
  },
  {
   "cell_type": "markdown",
   "id": "c89f7cec",
   "metadata": {},
   "source": [
    "### List Methods\n"
   ]
  },
  {
   "cell_type": "code",
   "execution_count": 38,
   "id": "ca4c70fc",
   "metadata": {},
   "outputs": [
    {
     "name": "stdout",
     "output_type": "stream",
     "text": [
      "['apple', 'banana', 'pineapple', 'orange', 'kiwi', 'iceapple']\n",
      "['apple', 'pineapple', 'orange', 'kiwi', 'iceapple']\n",
      "['apple', 'iceapple', 'kiwi', 'orange', 'pineapple']\n"
     ]
    }
   ],
   "source": [
    "fruits = [\"apple\", \"banana\", \"pineapple\", \"orange\", \"kiwi\"]\n",
    "\n",
    "# Adding elements\n",
    "\n",
    "fruits.append(\"iceapple\")\n",
    "print(fruits)\n",
    "\n",
    "fruits.remove(\"banana\")\n",
    "print(fruits)\n",
    "\n",
    "fruits.sort()\n",
    "print(fruits)"
   ]
  },
  {
   "cell_type": "markdown",
   "id": "420182b4",
   "metadata": {},
   "source": [
    "### Questions to practice (Day - 17):"
   ]
  },
  {
   "cell_type": "code",
   "execution_count": 39,
   "id": "0f4e6c1a",
   "metadata": {},
   "outputs": [
    {
     "name": "stdout",
     "output_type": "stream",
     "text": [
      "1\n",
      "2\n",
      "3\n",
      "4\n",
      "5\n"
     ]
    }
   ],
   "source": [
    "# 1.Write a Python program that takes a list of numbers [1, 2, 3, 4, 5] and prints each number on a new line.\n",
    "\n",
    "i = [1, 2, 3, 4, 5]\n",
    "\n",
    "for i in i:\n",
    "    print(i)"
   ]
  },
  {
   "cell_type": "code",
   "execution_count": 41,
   "id": "b756c95d",
   "metadata": {},
   "outputs": [
    {
     "name": "stdout",
     "output_type": "stream",
     "text": [
      "apple banana orange\n"
     ]
    }
   ],
   "source": [
    "# 2.Given a list of strings [\"apple\", \"banana\", \"orange\"], concatenate all the strings together with a space in between and print the result.\n",
    "\n",
    "l = [\"apple\", \"banana\", \"orange\"]\n",
    "\n",
    "print(\" \".join(l))\n"
   ]
  },
  {
   "cell_type": "code",
   "execution_count": 42,
   "id": "5a515d96",
   "metadata": {},
   "outputs": [
    {
     "name": "stdout",
     "output_type": "stream",
     "text": [
      "15\n"
     ]
    }
   ],
   "source": [
    "# 3.Write a Python function that takes a list of numbers as input and returns the sum of all the numbers.\n",
    "\n",
    "num = [1, 2, 3, 4, 5]\n",
    "total = 0\n",
    "\n",
    "for n in num:\n",
    "    total = total + n\n",
    "print(total)    \n"
   ]
  },
  {
   "cell_type": "code",
   "execution_count": 43,
   "id": "3279d735",
   "metadata": {},
   "outputs": [
    {
     "name": "stdout",
     "output_type": "stream",
     "text": [
      "50\n"
     ]
    }
   ],
   "source": [
    "# 4.Given a list of numbers [10, 20, 30, 40, 50], find the maximum number using the max() function and print the result.\n",
    "\n",
    "num = [10, 20, 30, 40, 50]\n",
    "\n",
    "print(max(num))"
   ]
  },
  {
   "cell_type": "code",
   "execution_count": 55,
   "id": "e3ab3576",
   "metadata": {},
   "outputs": [
    {
     "name": "stdout",
     "output_type": "stream",
     "text": [
      "Name found\n"
     ]
    }
   ],
   "source": [
    "# 5.Write a Python program that takes a list of names [\"Alice\", \"Bob\", \"Charlie\"] and checks if a given name (e.g., \"Alice\") is present in the list. Print \"Name found\" if the name is in the list; otherwise, print \"Name not found\".\n",
    "\n",
    "names = [\"Alice\", \"Bob\", \"Charlie\"]\n",
    "\n",
    "for name in names:\n",
    "    if name ==\"Alice\":\n",
    "        print(\"Name found\")\n",
    "        break\n",
    "    else:\n",
    "        print(\"Name not found\")\n"
   ]
  },
  {
   "cell_type": "markdown",
   "id": "4acd9ed4",
   "metadata": {},
   "source": [
    "## Day 18\n",
    "\n",
    "Tuples"
   ]
  },
  {
   "cell_type": "markdown",
   "id": "4307e03d",
   "metadata": {},
   "source": [
    "Tuple Packing and Unpacking:"
   ]
  },
  {
   "cell_type": "code",
   "execution_count": 59,
   "id": "d4077a1e",
   "metadata": {},
   "outputs": [
    {
     "name": "stdout",
     "output_type": "stream",
     "text": [
      "John\n",
      "30\n",
      "New york\n"
     ]
    }
   ],
   "source": [
    "person = (\"John\", 30, \"New york\")\n",
    "name, age, city = person\n",
    "\n",
    "print(name)\n",
    "print(age)\n",
    "print(city)"
   ]
  },
  {
   "cell_type": "markdown",
   "id": "b6db7dac",
   "metadata": {},
   "source": [
    "### Questions to practice (Day - 18):"
   ]
  },
  {
   "cell_type": "code",
   "execution_count": 1,
   "id": "2aaf6513",
   "metadata": {},
   "outputs": [
    {
     "name": "stdout",
     "output_type": "stream",
     "text": [
      "('apple', 5, True)\n"
     ]
    }
   ],
   "source": [
    "# 1.Create a tuple containing three elements: 'apple', 5, and True.\n",
    "\n",
    "tuple = ('apple', 5, True)\n",
    "\n",
    "print(tuple)"
   ]
  },
  {
   "cell_type": "code",
   "execution_count": 3,
   "id": "e33d5235",
   "metadata": {},
   "outputs": [
    {
     "name": "stdout",
     "output_type": "stream",
     "text": [
      "dog\n"
     ]
    }
   ],
   "source": [
    "# 2.Access the second element from the given tuple: ('cat', 'dog', 'bird', 'fish').\n",
    "\n",
    "tuple = ('cat', 'dog', 'bird', 'fish')\n",
    "\n",
    "print(tuple[1])"
   ]
  },
  {
   "cell_type": "code",
   "execution_count": 4,
   "id": "a9fba2e3",
   "metadata": {},
   "outputs": [
    {
     "name": "stdout",
     "output_type": "stream",
     "text": [
      "(1, 2, 3, 'a', 'b', 'c')\n"
     ]
    }
   ],
   "source": [
    "# 3.Concatenate two tuples: (1, 2, 3) and ('a', 'b', 'c').\n",
    "\n",
    "t1 = (1,2,3)\n",
    "t2 = ('a', 'b', 'c')\n",
    "\n",
    "print(t1 + t2)"
   ]
  },
  {
   "cell_type": "code",
   "execution_count": 5,
   "id": "24325c8c",
   "metadata": {},
   "outputs": [
    {
     "name": "stdout",
     "output_type": "stream",
     "text": [
      "5\n"
     ]
    }
   ],
   "source": [
    "# 4.Find the length of the tuple: (10, 20, 30, 40, 50).\n",
    "\n",
    "tuple = (10, 20, 30, 40, 50)\n",
    "\n",
    "print(len(tuple))"
   ]
  },
  {
   "cell_type": "code",
   "execution_count": 18,
   "id": "41737052",
   "metadata": {},
   "outputs": [
    {
     "name": "stdout",
     "output_type": "stream",
     "text": [
      "False\n"
     ]
    }
   ],
   "source": [
    "# 5.Check if the element 25 exists in the tuple: (10, 20, 30, 40, 50).\n",
    "\n",
    "tuple = (10, 20, 30, 40, 50)\n",
    "\n",
    "\n",
    "t = 25 in tuple\n",
    "print(t)"
   ]
  },
  {
   "cell_type": "code",
   "execution_count": 19,
   "id": "8d5027bd",
   "metadata": {},
   "outputs": [
    {
     "name": "stdout",
     "output_type": "stream",
     "text": [
      "(3, 6, 9, 3, 6, 9, 3, 6, 9)\n"
     ]
    }
   ],
   "source": [
    "# 6.Create a new tuple with elements from the given tuple (3, 6, 9) repeated 3 times.\n",
    "\n",
    "t = (3, 6, 9)\n",
    "\n",
    "t2 = t * 3\n",
    "\n",
    "print(t2)"
   ]
  },
  {
   "cell_type": "code",
   "execution_count": 23,
   "id": "c4e505ec",
   "metadata": {},
   "outputs": [
    {
     "name": "stdout",
     "output_type": "stream",
     "text": [
      "fruit1 =  apple\n",
      "fruit2 =  banana\n",
      "fruit3 =  orange\n"
     ]
    }
   ],
   "source": [
    "# 7.Perform packing and unpacking on a tuple containing the names of three fruits: 'apple', 'banana', and 'orange'. Use unpacking to assign each fruit to three variables: fruit1, fruit2, and fruit3.\n",
    "\n",
    "fruits = ('apple', 'banana', 'orange')\n",
    "fruit1, fruit2, fruit3 = fruits\n",
    "\n",
    "print(\"fruit1 = \",fruit1)\n",
    "print(\"fruit2 = \",fruit2)\n",
    "print(\"fruit3 = \",fruit3)"
   ]
  },
  {
   "cell_type": "markdown",
   "id": "fce5b3f6",
   "metadata": {},
   "source": [
    "## Day 19\n",
    "\n",
    "Dictionaries"
   ]
  },
  {
   "cell_type": "code",
   "execution_count": 3,
   "id": "224d6029",
   "metadata": {},
   "outputs": [
    {
     "name": "stdout",
     "output_type": "stream",
     "text": [
      "{'name': 'Hemanth', 'age': 21, 'major': 'CSE', 'gpa': '7.62'}\n"
     ]
    }
   ],
   "source": [
    "# Creating dictionaries\n",
    "\n",
    "student = {\n",
    "    \"name\":   \"Hemanth\",\n",
    "    \"age\":    21,\n",
    "    \"major\":  \"CSE\",\n",
    "    \"gpa\":   \"7.62\"\n",
    "}\n",
    "\n",
    "print(student)\n"
   ]
  },
  {
   "cell_type": "code",
   "execution_count": 7,
   "id": "7432f9b1",
   "metadata": {},
   "outputs": [
    {
     "name": "stdout",
     "output_type": "stream",
     "text": [
      "Hemanth\n",
      "7.6\n"
     ]
    }
   ],
   "source": [
    "# Example: Accessing values in a dictionary\n",
    "student = {\n",
    "    \"name\": \"Hemanth\",\n",
    "    \"age\": 22,\n",
    "    \"major\": \"Computer Science\",\n",
    "    \"gpa\": 7.6\n",
    "}\n",
    "\n",
    "print(student[\"name\"])  # Output: \"Dodagatta Nihar\"\n",
    "print(student[\"gpa\"])   # Output: 3.8"
   ]
  },
  {
   "cell_type": "markdown",
   "id": "7396a049",
   "metadata": {},
   "source": [
    "### Questions to practice (Day - 19):"
   ]
  },
  {
   "cell_type": "code",
   "execution_count": 8,
   "id": "e2776872",
   "metadata": {},
   "outputs": [
    {
     "name": "stdout",
     "output_type": "stream",
     "text": [
      "{}\n"
     ]
    }
   ],
   "source": [
    "# Question 1: Create an empty dictionary.\n",
    "\n",
    "student = {}\n",
    "print(student)"
   ]
  },
  {
   "cell_type": "code",
   "execution_count": 20,
   "id": "605be40f",
   "metadata": {},
   "outputs": [
    {
     "name": "stdout",
     "output_type": "stream",
     "text": [
      "John :  25\n",
      "Alice:  30\n",
      "{'John': 25, 'Alice': 30}\n"
     ]
    }
   ],
   "source": [
    "# Question 2: Create a dictionary to store the age of two people, \"John\" and \"Alice.\" John is 25 years old, and Alice is 30 years old.\n",
    "\n",
    "people = {\n",
    "    \"John\": 25 ,\n",
    "    \"Alice\": 30\n",
    "}\n",
    "\n",
    "print(\"John : \",people[\"John\"])\n",
    "print(\"Alice: \", people[\"Alice\"])\n",
    "\n",
    "print(people)"
   ]
  },
  {
   "cell_type": "code",
   "execution_count": 21,
   "id": "032db86b",
   "metadata": {},
   "outputs": [
    {
     "name": "stdout",
     "output_type": "stream",
     "text": [
      "New york\n"
     ]
    }
   ],
   "source": [
    "# Question 3: Access the value associated with the key \"city\" from the given dictionary.\n",
    "# Expected Input: Dictionary: {\"name\": \"Alice\", \"city\": \"New York\", \"age\": 30}\n",
    "# Expected Output: \"New York\"\n",
    "\n",
    "data = {\n",
    "    \"name\": \"Alice\",\n",
    "    \"city\": \"New york\",\n",
    "    \"age\" : 30\n",
    "}\n",
    "\n",
    "print(data[\"city\"])"
   ]
  },
  {
   "cell_type": "code",
   "execution_count": 22,
   "id": "d311d0bb",
   "metadata": {},
   "outputs": [
    {
     "name": "stdout",
     "output_type": "stream",
     "text": [
      "{'name': 'Bob', 'email': 'bob@example.com'}\n"
     ]
    }
   ],
   "source": [
    "# Question 4: Create a dictionary to store the contact information of a person. The person's name is \"Bob,\" and their email is \"bob@example.com.\"\n",
    "# Expected Output: {\"name\": \"Bob\", \"email\": \"bob@example.com\"}\n",
    "\n",
    "data ={\n",
    "    \"name\": \"Bob\",\n",
    "    \"email\": \"bob@example.com\"\n",
    "}\n",
    "\n",
    "print(data)"
   ]
  },
  {
   "cell_type": "code",
   "execution_count": 26,
   "id": "259b3bfe",
   "metadata": {},
   "outputs": [
    {
     "name": "stdout",
     "output_type": "stream",
     "text": [
      "85\n"
     ]
    }
   ],
   "source": [
    "# Question 5: Access the value associated with the key \"score\" from the given dictionary.\n",
    "# Expected Input: Dictionary: {\"name\": \"John\", \"age\": 22, \"score\": 85}\n",
    "# Expected Output: 85\n",
    "\n",
    "dict = {\n",
    "    \"name\": \"John\",\n",
    "    \"age\": 22,\n",
    "    \"score\": 85\n",
    "}\n",
    "\n",
    "print(dict[\"score\"])"
   ]
  },
  {
   "cell_type": "code",
   "execution_count": 24,
   "id": "3a15807b",
   "metadata": {},
   "outputs": [
    {
     "name": "stdout",
     "output_type": "stream",
     "text": [
      "{'width': 10, 'height': 5}\n"
     ]
    }
   ],
   "source": [
    "# Question 6: Create a dictionary to represent a rectangle. The rectangle has a width of 10 and a height of 5.\n",
    "# Expected Output: {\"width\": 10, \"height\": 5}\n",
    "\n",
    "rectangle = {\n",
    "    \"width\": 10,\n",
    "    \"height\":5\n",
    "}\n",
    "\n",
    "print(rectangle)"
   ]
  },
  {
   "cell_type": "markdown",
   "id": "6226605f",
   "metadata": {},
   "source": [
    "### Day20\n",
    "\n",
    "Working with Dictionaries"
   ]
  },
  {
   "cell_type": "code",
   "execution_count": 1,
   "id": "cf924426",
   "metadata": {},
   "outputs": [
    {
     "name": "stdout",
     "output_type": "stream",
     "text": [
      "{'name': 'Hemanth', 'age': 22, 'major': 'Computer Science', 'gpa': 7.6, 'university': 'JNTU GV University'}\n"
     ]
    }
   ],
   "source": [
    "# Modifying and Adding Key_Value Pairs:\n",
    "\n",
    "student= {\n",
    "    \"name\": \"Hemanth\",\n",
    "    \"age\": 22,\n",
    "    \"major\": \"Computer Science\",\n",
    "    \"gpa\": 7.2\n",
    "}\n",
    "\n",
    "# Modifying value\n",
    "\n",
    "student[\"gpa\"] = 7.6\n",
    "\n",
    "# Adding new key_value pair\n",
    "\n",
    "student[\"university\"] = \"JNTU GV University\"\n",
    "\n",
    "print(student)\n"
   ]
  },
  {
   "cell_type": "code",
   "execution_count": null,
   "id": "bebef753",
   "metadata": {},
   "outputs": [
    {
     "name": "stdout",
     "output_type": "stream",
     "text": [
      "dict_keys(['name', 'age', 'major', 'gpa'])\n",
      "dict_values(['Hemanth', 25, 'Computer Science Engineering', 7.6])\n",
      "Major: Computer Science Engineering\n",
      "Removed Value: 25\n",
      "{'name': 'Hemanth', 'major': 'Computer Science Engineering', 'gpa': 7.6}\n"
     ]
    }
   ],
   "source": [
    "# Example: Dictionary methods \n",
    "\n",
    "student = {\n",
    "    \"name\": \"Hemanth\",\n",
    "    \"age\": 25,\n",
    "    \"major\": \"Computer Science Engineering\",\n",
    "    \"gpa\": 7.6\n",
    "}\n",
    "\n",
    "# Get keys and values\n",
    "\n",
    "keys = student.keys()\n",
    "values = student.values()\n",
    "\n",
    "print(keys)\n",
    "print(values)\n",
    "\n",
    "# Check if a key exists in the dictionary\n",
    "\n",
    "if \"major\" in student:\n",
    "    print(\"Major:\", student[\"major\"]) \n",
    "\n",
    "# Remove a key-value pair from the dictionary\n",
    "\n",
    "remove_value = student.pop(\"age\")\n",
    "print(\"Removed Value:\", remove_value)\n",
    "\n",
    "print(student)"
   ]
  },
  {
   "cell_type": "markdown",
   "id": "c4edbcbf",
   "metadata": {},
   "source": [
    "### Questions to practice (Day - 20):"
   ]
  },
  {
   "cell_type": "code",
   "execution_count": null,
   "id": "482d8f45",
   "metadata": {},
   "outputs": [
    {
     "name": "stdout",
     "output_type": "stream",
     "text": [
      "{'name': 'Alice', 'age': 35}\n"
     ]
    }
   ],
   "source": [
    "# 1. Question 1: Given the initial dictionary `employee` as `{\"name\": \"Alice\", \"age\": 30}`, modify the value of the key \"age\" to 35.\n",
    "# Expected Input: `employee = {\"name\": \"Alice\", \"age\": 30}`\n",
    "# Expected Output: `{\"name\": \"Alice\", \"age\": 35}`\n",
    "\n",
    "employee = { \"name\": \"Alice\", \"age\": 30}\n",
    "\n",
    "employee[\"age\"] = 35\n",
    "\n",
    "print(employee)"
   ]
  },
  {
   "cell_type": "code",
   "execution_count": 8,
   "id": "72d1826a",
   "metadata": {},
   "outputs": [
    {
     "name": "stdout",
     "output_type": "stream",
     "text": [
      "{'apple': 5, 'banana': 7, 'orange': 3}\n"
     ]
    }
   ],
   "source": [
    "# Question 2: Add a new key-value pair to the dictionary fruits, where the key is \"orange\" and the value is 3.\n",
    "# Expected Input: fruits = {\"apple\": 5, \"banana\": 7}\n",
    "# Expected Output: {\"apple\": 5, \"banana\": 7, \"orange\": 3}\n",
    "\n",
    "fruits = {\"apple\": 5, \"banana\":7 }\n",
    "\n",
    "fruits[\"orange\"] = 3\n",
    "\n",
    "print(fruits)"
   ]
  },
  {
   "cell_type": "code",
   "execution_count": 14,
   "id": "139823c2",
   "metadata": {},
   "outputs": [
    {
     "name": "stdout",
     "output_type": "stream",
     "text": [
      "{'apple': 10, 'banana': 15}\n"
     ]
    }
   ],
   "source": [
    "# Question 3: Given the dictionary inventory, remove the key \"sugar\" and its associated value from the dictionary.\n",
    "# Expected Input: inventory = {\"apple\": 10, \"banana\": 15, \"sugar\": 2}\n",
    "\n",
    "inventory = {\"apple\":10, \"banana\":15, \"sugar\": 2}\n",
    "inventory.pop(\"sugar\")\n",
    "\n",
    "print(inventory)"
   ]
  },
  {
   "cell_type": "code",
   "execution_count": null,
   "id": "c5cd5ea0",
   "metadata": {},
   "outputs": [],
   "source": []
  },
  {
   "cell_type": "code",
   "execution_count": null,
   "id": "ad72dceb",
   "metadata": {},
   "outputs": [
    {
     "name": "stdout",
     "output_type": "stream",
     "text": [
      "{'apple': 10, 'banana': 16}\n"
     ]
    }
   ],
   "source": [
    "# Question 4: Create a function called add_stock that takes a dictionary stock and an item item_name (string) as input and adds 1 to the value of the corresponding key in the dictionary. Return the modified dictionary.\n",
    "# Expected Input: stock = {\"apple\": 10, \"banana\": 15}, item_name = \"banana\"\n",
    "# Expected Output: {\"apple\": 10, \"banana\": 16}\n",
    "\n",
    "stock = {\"apple\": 10, \"banana\": 15}\n",
    "\n",
    "item_name = input(\"Enter the item name: \")\n",
    "\n",
    "if item_name in stock:\n",
    "    stock[item_name] += 1\n",
    "else:\n",
    "    stock[item_name] = 1\n",
    "\n",
    "print(stock)    "
   ]
  },
  {
   "cell_type": "code",
   "execution_count": 22,
   "id": "a125dced",
   "metadata": {},
   "outputs": [
    {
     "name": "stdout",
     "output_type": "stream",
     "text": [
      "85\n"
     ]
    }
   ],
   "source": [
    "# Question 5: Given the dictionary scores, check if the key \"Alice\" exists. If it exists, print the associated value; otherwise, print \"Key not found.\"\n",
    "# Expected Input: scores = {\"Bob\": 85, \"Charlie\": 90, \"Alice\": 78}\n",
    "# Expected Output: 78\n",
    "\n",
    "scores = {\"Bob\":85, \"Charlie\":90, \"Alice\": 78}\n",
    "\n",
    "i = input(\"Enter the key:\")\n",
    "\n",
    "if i in scores:\n",
    "    print(scores[i])\n",
    "else:\n",
    "    print(\"Key not Found\")\n"
   ]
  },
  {
   "cell_type": "code",
   "execution_count": 1,
   "id": "ca0bc2c8",
   "metadata": {},
   "outputs": [
    {
     "name": "stdout",
     "output_type": "stream",
     "text": [
      "{'a': 3, 'e': 1, 'i': 1, 'o': 2, 'u': 1}\n"
     ]
    }
   ],
   "source": [
    "# Question 6: Write a function called count_vowels that takes a string text as input and returns a dictionary containing the count of each vowel (a, e, i, o, u) in the text. Ignore case sensitivity.\n",
    "# Expected Input: text = \"Hello, World!\"\n",
    "# Expected Output: {\"a\": 0, \"e\": 1, \"i\": 0, \"o\": 2, \"u\": 0}\n",
    "\n",
    "text = input(\"Enter the text: \").lower()\n",
    "\n",
    "vowels = {\"a\": 0, \"e\": 0, \"i\": 0, \"o\": 0, \"u\":0}\n",
    "\n",
    "for char in text:\n",
    "    if char in vowels:\n",
    "        vowels[char] += 1\n",
    "\n",
    "print(vowels)\n"
   ]
  },
  {
   "cell_type": "code",
   "execution_count": 3,
   "id": "e53fc589",
   "metadata": {},
   "outputs": [
    {
     "name": "stdout",
     "output_type": "stream",
     "text": [
      "('Bob', 90)\n"
     ]
    }
   ],
   "source": [
    "# Question 7: Given the dictionary student_grades, find the highest grade and its corresponding student name. The dictionary contains student names as keys and their grades as values.\n",
    "# Expected Input: student_grades = {\"Alice\": 85, \"Bob\": 90, \"Charlie\": 78}\n",
    "# Expected Output: (\"Bob\", 90)\n",
    "\n",
    "student_grades = {\"Alice\": 85, \"Bob\": 90, \"Charlie\":78 }\n",
    "\n",
    "high = -1\n",
    "topper = \"\"\n",
    "\n",
    "for name in student_grades:\n",
    "    if student_grades[name] > high:\n",
    "        high = student_grades[name]\n",
    "        topper = name \n",
    "\n",
    "print((topper, high))"
   ]
  },
  {
   "cell_type": "markdown",
   "id": "1f0fb5aa",
   "metadata": {},
   "source": [
    "### Day 21\n",
    "\n",
    "Sets"
   ]
  },
  {
   "cell_type": "code",
   "execution_count": null,
   "id": "bfb780f7",
   "metadata": {},
   "outputs": [],
   "source": [
    "my_set = {1,2,3,4,5}\n",
    "\n",
    "# Using the set() constructor\n",
    "\n",
    "another_set = set([5,6,7,8,9])\n"
   ]
  },
  {
   "cell_type": "code",
   "execution_count": 5,
   "id": "413627c1",
   "metadata": {},
   "outputs": [
    {
     "name": "stdout",
     "output_type": "stream",
     "text": [
      "{1, 2, 4, 5}\n",
      "1 {2, 4, 5}\n"
     ]
    }
   ],
   "source": [
    "# Removing Elements from a Set\n",
    "\n",
    "my_set = {1,2,3,4,5}\n",
    "my_set.remove(3)\n",
    "print(my_set)\n",
    "\n",
    "# Pop removes and returns an arbitary element from the set\n",
    "\n",
    "pop_element = my_set.pop()\n",
    "print(pop_element, my_set)"
   ]
  },
  {
   "cell_type": "markdown",
   "id": "78f8e0f6",
   "metadata": {},
   "source": [
    "### Questions to practice (Day - 21):"
   ]
  },
  {
   "cell_type": "code",
   "execution_count": 7,
   "id": "446fd713",
   "metadata": {},
   "outputs": [
    {
     "name": "stdout",
     "output_type": "stream",
     "text": [
      "{}\n"
     ]
    }
   ],
   "source": [
    "# Question 1: Creating a set\n",
    "# Expected Input: None\n",
    "# Expected Output: An empty set\n",
    "\n",
    "set = {}\n",
    "print(set)"
   ]
  },
  {
   "cell_type": "code",
   "execution_count": 9,
   "id": "641c7307",
   "metadata": {},
   "outputs": [
    {
     "name": "stdout",
     "output_type": "stream",
     "text": [
      "{1, 2, 3, 4}\n"
     ]
    }
   ],
   "source": [
    "# Question 2: Adding elements to a set\n",
    "# Expected Input: Set: {1, 2, 3}, Element to add: 4\n",
    "# Expected Output: Set: {1, 2, 3, 4}\n",
    "\n",
    "set = {1,2,3}\n",
    "\n",
    "set.add(4)\n",
    "\n",
    "print(set)"
   ]
  },
  {
   "cell_type": "code",
   "execution_count": 10,
   "id": "cb6342fd",
   "metadata": {},
   "outputs": [
    {
     "name": "stdout",
     "output_type": "stream",
     "text": [
      "{1, 2, 4}\n"
     ]
    }
   ],
   "source": [
    "# Question 3: Removing an element from a set\n",
    "# Expected Input: Set: {1, 2, 3, 4}, Element to remove: 3\n",
    "# Expected Output: Set: {1, 2, 4}\n",
    "\n",
    "set = {1,2,3,4}\n",
    "\n",
    "set.remove(3)\n",
    "print(set)"
   ]
  },
  {
   "cell_type": "code",
   "execution_count": 12,
   "id": "f051191a",
   "metadata": {},
   "outputs": [
    {
     "name": "stdout",
     "output_type": "stream",
     "text": [
      "Set: {1, 2, 3, 4}\n"
     ]
    }
   ],
   "source": [
    "# Question 4: Removing a non-existent element from a set\n",
    "# Expected Input: Set: {1, 2, 3, 4}, Element to remove: 5\n",
    "# Expected Output: Set: {1, 2, 3, 4}\n",
    "\n",
    "set = {1,2,3,4}\n",
    "\n",
    "bye_bye = 5\n",
    "\n",
    "set.discard(bye_bye)\n",
    "\n",
    "\n",
    "print(\"Set:\",set)"
   ]
  },
  {
   "cell_type": "code",
   "execution_count": 1,
   "id": "35be8180",
   "metadata": {},
   "outputs": [
    {
     "name": "stdout",
     "output_type": "stream",
     "text": [
      "{1, 2, 3, 4}\n"
     ]
    }
   ],
   "source": [
    "# Question 5: Creating a set from a list\n",
    "# Expected Input: List: [5, 10, 15, 20]\n",
    "# Expected Output: Set: {5, 10, 15, 20}\n",
    "\n",
    "# first run del set \n",
    "\n",
    "# then re run the code by deleting the del set \n",
    "\n",
    "myList = [1, 2, 3, 4, 4]\n",
    "mySet = set(myList)\n",
    "print(mySet)\n"
   ]
  },
  {
   "cell_type": "code",
   "execution_count": 24,
   "id": "a51d350a",
   "metadata": {},
   "outputs": [
    {
     "name": "stdout",
     "output_type": "stream",
     "text": [
      "{1, 2, 3, 4, 5}\n"
     ]
    }
   ],
   "source": [
    "# Question 6: Adding multiple elements to a set\n",
    "# Expected Input: Set: {1, 2, 3}, Elements to add: {4, 5}\n",
    "# Expected Output: Set: {1, 2, 3, 4, 5}\n",
    "\n",
    "i = {1, 2, 3}\n",
    "\n",
    "i.add(4)\n",
    "i.add(5)\n",
    "print(i)"
   ]
  },
  {
   "cell_type": "code",
   "execution_count": 6,
   "id": "eebfa232",
   "metadata": {},
   "outputs": [
    {
     "name": "stdout",
     "output_type": "stream",
     "text": [
      "{40, 10, 20, 30}\n",
      "{40, 10, 20, 30}\n",
      "{40, 10, 20, 30}\n",
      "Set: {40, 10, 20, 30}\n"
     ]
    }
   ],
   "source": [
    "# **Question 7: Removing elements using discard()**\n",
    "# Expected Input: Set: {10, 20, 30, 40}, Elements to remove: {20, 50}\n",
    "# Expected Output: Set: {10, 30, 40}\n",
    "\n",
    "their_set = {10, 20, 30, 40}\n",
    "elements_to_remove = {20, 50}\n",
    "\n",
    "print(their_set)\n",
    "for element in elements_to_remove:\n",
    "    my_set.discard(element)\n",
    "    print(their_set)\n",
    "\n",
    "print(\"Set:\", their_set)\n"
   ]
  },
  {
   "cell_type": "markdown",
   "id": "61b25951",
   "metadata": {},
   "source": [
    "## Day 22\n",
    "\n",
    "Working with Sets"
   ]
  },
  {
   "cell_type": "markdown",
   "id": "d5c3b322",
   "metadata": {},
   "source": [
    "### Questions to practice (Day - 22):"
   ]
  },
  {
   "cell_type": "code",
   "execution_count": 9,
   "id": "88b57067",
   "metadata": {},
   "outputs": [
    {
     "name": "stdout",
     "output_type": "stream",
     "text": [
      "{1, 2, 4, 5}\n"
     ]
    }
   ],
   "source": [
    "# Question 1: Symmetric Difference between two sets\n",
    "# Expected Input: Set A: {1, 2, 3}, Set B: {3, 4, 5}\n",
    "# Expected Output: {1, 2, 4, 5}\n",
    "\n",
    "set1  = {1,2,3}\n",
    "set2 = { 3,4,5}\n",
    "\n",
    "sd = set1.symmetric_difference(set2)\n",
    "print(sd)"
   ]
  },
  {
   "cell_type": "code",
   "execution_count": 11,
   "id": "31b49ecc",
   "metadata": {},
   "outputs": [
    {
     "name": "stdout",
     "output_type": "stream",
     "text": [
      "True\n"
     ]
    }
   ],
   "source": [
    "# Question 2: Checking membership in a set\n",
    "# Expected Input: Set: {1, 2, 3}, Element to check: 2\n",
    "# Expected Output: True\n",
    "\n",
    "set1 = {1,2,3}\n",
    "\n",
    "if 2 in set1:\n",
    "    print(True)\n",
    "else:\n",
    "    print(False)"
   ]
  },
  {
   "cell_type": "code",
   "execution_count": 12,
   "id": "a00375b7",
   "metadata": {},
   "outputs": [
    {
     "name": "stdout",
     "output_type": "stream",
     "text": [
      "{1, 2, 3, 4, 5}\n"
     ]
    }
   ],
   "source": [
    "# Question 3: Union of two sets\n",
    "# Expected Input: Set A: {1, 2, 3}, Set B: {3, 4, 5}\n",
    "# Expected Output: {1, 2, 3, 4, 5}\n",
    "\n",
    "print(set1.union(set2))\n"
   ]
  },
  {
   "cell_type": "code",
   "execution_count": 13,
   "id": "683a046d",
   "metadata": {},
   "outputs": [
    {
     "name": "stdout",
     "output_type": "stream",
     "text": [
      "{3}\n"
     ]
    }
   ],
   "source": [
    "# Question 4: Intersection of two sets\n",
    "# Expected Input: Set A: {1, 2, 3}, Set B: {3, 4, 5}\n",
    "# Expected Output: {3}\n",
    "\n",
    "print(set1.intersection(set2))"
   ]
  },
  {
   "cell_type": "code",
   "execution_count": 14,
   "id": "b342b871",
   "metadata": {},
   "outputs": [
    {
     "name": "stdout",
     "output_type": "stream",
     "text": [
      "{1, 2}\n"
     ]
    }
   ],
   "source": [
    "# Question 5: Difference between two sets\n",
    "# Expected Input: Set A: {1, 2, 3, 4}, Set B: {3, 4, 5}\n",
    "# Expected Output: {1, 2}\n",
    "\n",
    "print(set1-set2)"
   ]
  },
  {
   "cell_type": "code",
   "execution_count": 15,
   "id": "e2578ea2",
   "metadata": {},
   "outputs": [
    {
     "name": "stdout",
     "output_type": "stream",
     "text": [
      "{1, 2, 3, 4, 5}\n"
     ]
    }
   ],
   "source": [
    "# Question 6: Removing duplicate elements from a list using a set\n",
    "# Expected Input: List: [1, 2, 2, 3, 4, 4, 5]\n",
    "# Expected Output: [1, 2, 3, 4, 5]\n",
    "\n",
    "i = [1,2,2,3,4,4,5]\n",
    "\n",
    "j = set(i)\n",
    "print(j)"
   ]
  },
  {
   "cell_type": "code",
   "execution_count": 16,
   "id": "db711bbf",
   "metadata": {},
   "outputs": [
    {
     "name": "stdout",
     "output_type": "stream",
     "text": [
      "5\n"
     ]
    }
   ],
   "source": [
    "# Question 7: Finding the length of a set\n",
    "# Expected Input: Set: {1, 2, 3, 4, 5}\n",
    "# Expected Output: 5\n",
    "\n",
    "print(len(j))"
   ]
  },
  {
   "cell_type": "code",
   "execution_count": null,
   "id": "b2f309fb",
   "metadata": {},
   "outputs": [
    {
     "name": "stdout",
     "output_type": "stream",
     "text": [
      "True\n"
     ]
    }
   ],
   "source": [
    "# Question 8: Checking if one set is a subset of another\n",
    "# Expected Input: Set A: {1, 2, 3}, Set B: {1, 2, 3, 4, 5}\n",
    "# Expected Output: True\n",
    "\n",
    "set_A = {1, 2, 3}\n",
    "set_B = {1, 2, 3, 4, 5}\n",
    "\n",
    "result = set_A.issubset(set_B)\n",
    "print(result)"
   ]
  },
  {
   "cell_type": "code",
   "execution_count": 2,
   "id": "394f763c",
   "metadata": {},
   "outputs": [
    {
     "name": "stdout",
     "output_type": "stream",
     "text": [
      "True\n"
     ]
    }
   ],
   "source": [
    "# Question 9: Checking if two sets are disjoint\n",
    "# Expected Input: Set A: {1, 2, 3}, Set B: {4, 5, 6}\n",
    "# Expected Output: True\n",
    "\n",
    "\n",
    "set_A = {1, 2, 3}\n",
    "set_B = {4, 5, 6}\n",
    "\n",
    "result = set_A.isdisjoint(set_B)\n",
    "print(result)\n",
    "\n"
   ]
  },
  {
   "cell_type": "code",
   "execution_count": 3,
   "id": "d7aa85a6",
   "metadata": {},
   "outputs": [
    {
     "name": "stdout",
     "output_type": "stream",
     "text": [
      "True\n"
     ]
    }
   ],
   "source": [
    "# **Question 10: Removing all elements from a set**\n",
    "# Expected Input: Set: {1, 2, 3, 4, 5}\n",
    "# Expected Output: An empty set\n",
    "\n",
    "set_A = {1, 2, 3}\n",
    "set_B = {4, 5, 6}\n",
    "\n",
    "result = set_A.isdisjoint(set_B)\n",
    "print(result)\n"
   ]
  },
  {
   "cell_type": "markdown",
   "id": "d114e51b",
   "metadata": {},
   "source": [
    "## Day 23\n",
    "\n",
    "Functions "
   ]
  },
  {
   "cell_type": "code",
   "execution_count": 6,
   "id": "32020b4a",
   "metadata": {},
   "outputs": [
    {
     "name": "stdout",
     "output_type": "stream",
     "text": [
      "Hello World\n",
      "5\n"
     ]
    }
   ],
   "source": [
    "def greet():\n",
    "    return \"Hello World\"\n",
    "def add(a,b):\n",
    "    return a+b\n",
    "\n",
    "a = greet()\n",
    "\n",
    "print(a)\n",
    "\n",
    "b = add(2,3)\n",
    "print(b)"
   ]
  },
  {
   "cell_type": "code",
   "execution_count": null,
   "id": "2854fdd1",
   "metadata": {},
   "outputs": [
    {
     "name": "stdout",
     "output_type": "stream",
     "text": [
      "Hello, Hemanth!\n"
     ]
    }
   ],
   "source": [
    "def greet_user(name):\n",
    "    print(f\"Hello, {name}!\")\n",
    "\n",
    "greet_user(\"Hemanth\")    "
   ]
  },
  {
   "cell_type": "code",
   "execution_count": 8,
   "id": "23d69864",
   "metadata": {},
   "outputs": [
    {
     "name": "stdout",
     "output_type": "stream",
     "text": [
      "5\n"
     ]
    }
   ],
   "source": [
    "def sub_num(a, b):\n",
    "    return a-b\n",
    "\n",
    "result = sub_num(10, 5)\n",
    "print(result)"
   ]
  },
  {
   "cell_type": "markdown",
   "id": "5bbdc102",
   "metadata": {},
   "source": [
    "### Questions to practice (Day - 23):"
   ]
  },
  {
   "cell_type": "code",
   "execution_count": 22,
   "id": "840eee89",
   "metadata": {},
   "outputs": [
    {
     "name": "stdout",
     "output_type": "stream",
     "text": [
      "Hello, World!\n"
     ]
    }
   ],
   "source": [
    "# Problem 1: Simple function without parameters\n",
    "# Write a function called greet that takes no parameters and returns the string \"Hello, World!\"\n",
    "\n",
    "def greet():\n",
    "    print(\"Hello, World!\")\n",
    "\n",
    "greet()    "
   ]
  },
  {
   "cell_type": "code",
   "execution_count": 36,
   "id": "ba86cd53",
   "metadata": {},
   "outputs": [
    {
     "name": "stdout",
     "output_type": "stream",
     "text": [
      "Hello, Alice!\n"
     ]
    }
   ],
   "source": [
    "# Problem 2: Function with one parameter\n",
    "# Write a function called greet_user that takes a name parameter and returns a greeting message with the name.\n",
    "\n",
    "def greet_user(name):\n",
    "    print(f\"Hello, {name}!\")\n",
    "    return\n",
    "    \n",
    "greet_user(\"Alice\")    "
   ]
  },
  {
   "cell_type": "code",
   "execution_count": 29,
   "id": "11ab7066",
   "metadata": {},
   "outputs": [
    {
     "name": "stdout",
     "output_type": "stream",
     "text": [
      "20\n"
     ]
    }
   ],
   "source": [
    "# Problem 3: Function with two parameters and mathematical operation\n",
    "# Write a function called add_numbers that takes two parameters a and b, and returns their sum.\n",
    "\n",
    "def add_numbers(a,b):\n",
    "    return a+b\n",
    "\n",
    "result = add_numbers(5, 15)\n",
    "print(result)"
   ]
  },
  {
   "cell_type": "code",
   "execution_count": 32,
   "id": "096479b3",
   "metadata": {},
   "outputs": [
    {
     "name": "stdout",
     "output_type": "stream",
     "text": [
      "Even\n"
     ]
    }
   ],
   "source": [
    "# Problem 4: Function with a conditional statement\n",
    "# Write a function called check_even_odd that takes a number parameter and returns \"Even\" if the number is even, and \"Odd\" if the number is odd.\n",
    "\n",
    "def check_even_odd(a):\n",
    "    if a % 2 == 0:\n",
    "        return \"Even\"\n",
    "    else:\n",
    "        return \"Odd\"\n",
    "    \n",
    "result = check_even_odd(8)\n",
    "print(result)"
   ]
  },
  {
   "cell_type": "code",
   "execution_count": 39,
   "id": "6d636081",
   "metadata": {},
   "outputs": [
    {
     "name": "stdout",
     "output_type": "stream",
     "text": [
      "Hello, Guest!\n"
     ]
    }
   ],
   "source": [
    "# Problem 5: Function with default parameter value\n",
    "# Write a function called greet_user that takes an optional name parameter with a default value of \"Guest\". The function should return a greeting message with the provided name or \"Guest\" if no name is provided.\n",
    "\n",
    "def greet_user(name = \"Guest\"):\n",
    "    return f\"Hello, {name}!\"\n",
    "\n",
    "msg = greet_user()\n",
    "print(msg)"
   ]
  },
  {
   "cell_type": "code",
   "execution_count": null,
   "id": "7ac60c87",
   "metadata": {},
   "outputs": [
    {
     "name": "stdout",
     "output_type": "stream",
     "text": [
      "90\n",
      "90\n"
     ]
    }
   ],
   "source": [
    "# Problem 6: Function with a variable number of arguments (variadic function)\n",
    "# Write a function called sum_numbers that takes a variable number of arguments and returns the sum of all the arguments./\n",
    "\n",
    "\n",
    "def sum_numbers(*args):\n",
    "    return sum(args)\n",
    "\n",
    "result = sum_numbers(10, 20, 60)\n",
    "print(result)"
   ]
  },
  {
   "cell_type": "code",
   "execution_count": 51,
   "id": "ad6ac69f",
   "metadata": {},
   "outputs": [
    {
     "name": "stdout",
     "output_type": "stream",
     "text": [
      "36\n"
     ]
    }
   ],
   "source": [
    "# Problem 7: Nested Functions\n",
    "# Write a function called square that takes a number x as input and returns the square of that number using a nested function called multiply to perform the calculation.\n",
    "\n",
    "def square(x):\n",
    "    return x ** 2\n",
    "\n",
    "result = square(6)\n",
    "print(result)"
   ]
  },
  {
   "cell_type": "markdown",
   "id": "8204b041",
   "metadata": {},
   "source": [
    "## Day 24"
   ]
  },
  {
   "cell_type": "code",
   "execution_count": 1,
   "id": "1e6b2ca0",
   "metadata": {},
   "outputs": [
    {
     "name": "stdout",
     "output_type": "stream",
     "text": [
      "Hello, Guest!\n",
      "Hello, Alice!\n"
     ]
    }
   ],
   "source": [
    "# Default parameters:\n",
    "\n",
    "def g_u(name = 'Guest'):\n",
    "    print(f\"Hello, {name}!\")\n",
    "\n",
    "g_u()\n",
    "g_u(\"Alice\")    "
   ]
  },
  {
   "cell_type": "code",
   "execution_count": 4,
   "id": "15b129ab",
   "metadata": {},
   "outputs": [
    {
     "name": "stdout",
     "output_type": "stream",
     "text": [
      "I'm global\n",
      "I'm local\n",
      "I'm global\n"
     ]
    }
   ],
   "source": [
    "global_variable = \"I'm global\"\n",
    "\n",
    "def function_with_local_variable():\n",
    "    local_variable = \"I'm local\"\n",
    "    print(global_variable)     # Output: I'm global\n",
    "    print(local_variable)      # Output: I'm local\n",
    "\n",
    "function_with_local_variable()\n",
    "print(global_variable)         # Output: I'm global\n",
    "# print(local_variable)       # Raises NameError: name 'local_variable' is not defined\n"
   ]
  },
  {
   "cell_type": "markdown",
   "id": "9b739885",
   "metadata": {},
   "source": [
    "### Input methods "
   ]
  },
  {
   "cell_type": "code",
   "execution_count": null,
   "id": "d93501d0",
   "metadata": {},
   "outputs": [],
   "source": [
    "r = int(input())\n",
    "c = int(input())\n",
    "\n",
    "mat = []\n",
    "\n",
    "\"\"\" \n",
    "1\n",
    "2\n",
    "3\n",
    "4 \"\"\"\n",
    "\n",
    "for i in range(r):\n",
    "    for j in range(c):\n",
    "        \n"
   ]
  },
  {
   "cell_type": "code",
   "execution_count": 3,
   "id": "6ae3af16",
   "metadata": {},
   "outputs": [
    {
     "name": "stdout",
     "output_type": "stream",
     "text": [
      "4\n"
     ]
    }
   ],
   "source": [
    "matrix = [[1,2,3],[4,5,6],[0,8,7]]\n",
    "\n",
    "\n",
    "print(matrix[1][0])"
   ]
  },
  {
   "cell_type": "code",
   "execution_count": null,
   "id": "2a367734",
   "metadata": {},
   "outputs": [
    {
     "name": "stdout",
     "output_type": "stream",
     "text": [
      "4\n"
     ]
    }
   ],
   "source": [
    "a = [1,2,3,4,5,6]\n",
    "\n",
    "print(a[3])"
   ]
  },
  {
   "cell_type": "code",
   "execution_count": 13,
   "id": "234d0ef8",
   "metadata": {},
   "outputs": [
    {
     "name": "stdout",
     "output_type": "stream",
     "text": [
      "1221\n",
      "False\n"
     ]
    }
   ],
   "source": [
    "n = 1221\n",
    "n = int(n)\n",
    "\n",
    "rev = 0\n",
    "#bruteforce approach\n",
    "while n>0:\n",
    "    # cnt+=1\n",
    "    rev = (rev*10) + n%10\n",
    "    n = n//10\n",
    "\n",
    "print(rev)\n",
    "\n",
    "\n",
    "if n == rev:\n",
    "    print(\"True\")\n",
    "else:\n",
    "    print(\"False\")"
   ]
  },
  {
   "cell_type": "markdown",
   "id": "8ccc5555",
   "metadata": {},
   "source": [
    "### Count the number of digits in the given nummber"
   ]
  },
  {
   "cell_type": "code",
   "execution_count": 5,
   "id": "a42ccb64",
   "metadata": {},
   "outputs": [
    {
     "name": "stdout",
     "output_type": "stream",
     "text": [
      "14336\n",
      "6\n",
      "1433\n",
      "3\n",
      "143\n",
      "3\n",
      "14\n",
      "4\n",
      "1\n",
      "1\n",
      "0\n",
      "0\n",
      "0\n",
      "0\n"
     ]
    }
   ],
   "source": [
    "n = 14336\n",
    "\n",
    "print(n)\n",
    "print(n%10) # remainder 6\n",
    "n = n//10 # 1433\n",
    "\n",
    "\n",
    "print(n)\n",
    "print(n%10)\n",
    "n = n//10\n",
    "\n",
    "print(n)\n",
    "print(n%10)\n",
    "n = n//10\n",
    "\n",
    "print(n)\n",
    "print(n%10)\n",
    "n = n//10\n",
    "\n",
    "print(n)\n",
    "print(n%10)\n",
    "n = n//10\n",
    "\n",
    "print(n)\n",
    "print(n%10)\n",
    "n = n//10\n",
    "\n",
    "print(n)\n",
    "print(n%10)\n",
    "n = n//10"
   ]
  },
  {
   "cell_type": "code",
   "execution_count": 4,
   "id": "7d90eebd",
   "metadata": {},
   "outputs": [
    {
     "name": "stdout",
     "output_type": "stream",
     "text": [
      "4\n"
     ]
    }
   ],
   "source": [
    "n = 1221\n",
    "\n",
    "count = 0\n",
    "\n",
    "#bruteforce approach\n",
    "while n > 0:\n",
    "    count = count + 1\n",
    "    n = n // 10\n",
    "   # print(count)\n",
    "print(count)"
   ]
  },
  {
   "cell_type": "code",
   "execution_count": 3,
   "id": "435ac410",
   "metadata": {},
   "outputs": [
    {
     "ename": "ValueError",
     "evalue": "math domain error",
     "output_type": "error",
     "traceback": [
      "\u001b[1;31m---------------------------------------------------------------------------\u001b[0m",
      "\u001b[1;31mValueError\u001b[0m                                Traceback (most recent call last)",
      "Cell \u001b[1;32mIn[3], line 5\u001b[0m\n\u001b[0;32m      3\u001b[0m \u001b[38;5;28;01mimport\u001b[39;00m \u001b[38;5;21;01mmath\u001b[39;00m\n\u001b[0;32m      4\u001b[0m n \u001b[38;5;241m=\u001b[39m \u001b[38;5;241m0\u001b[39m\n\u001b[1;32m----> 5\u001b[0m count \u001b[38;5;241m=\u001b[39m \u001b[38;5;28mint\u001b[39m(\u001b[43mmath\u001b[49m\u001b[38;5;241;43m.\u001b[39;49m\u001b[43mlog10\u001b[49m\u001b[43m(\u001b[49m\u001b[43mn\u001b[49m\u001b[43m)\u001b[49m \u001b[38;5;241m+\u001b[39m \u001b[38;5;241m1\u001b[39m)\n\u001b[0;32m      6\u001b[0m \u001b[38;5;28mprint\u001b[39m(count)\n",
      "\u001b[1;31mValueError\u001b[0m: math domain error"
     ]
    }
   ],
   "source": [
    "#optimal approach\n",
    "\n",
    "import math\n",
    "n = 0\n",
    "count = int(math.log10(n) + 1)\n",
    "print(count)"
   ]
  },
  {
   "cell_type": "markdown",
   "id": "4bcf60ba",
   "metadata": {},
   "source": [
    "### Reverse of the number "
   ]
  },
  {
   "cell_type": "code",
   "execution_count": null,
   "id": "6ec520b3",
   "metadata": {},
   "outputs": [
    {
     "name": "stdout",
     "output_type": "stream",
     "text": [
      "6\n",
      "6\n",
      "3\n",
      "63\n",
      "3\n",
      "633\n",
      "4\n",
      "6334\n",
      "1\n",
      "63341\n"
     ]
    }
   ],
   "source": [
    "n = 14336\n",
    "\n",
    "rev = 0\n",
    "\n",
    "print(n % 10)\n",
    "rev = (rev * 10) + (n % 10)\n",
    "n = n // 10\n",
    "print(rev)\n",
    "print(n % 10)\n",
    "rev = (rev * 10) + (n % 10)\n",
    "n = n // 10\n",
    "print(rev)\n",
    "print(n % 10)\n",
    "rev = (rev * 10) + (n % 10)\n",
    "n = n // 10\n",
    "print(rev)\n",
    "print(n % 10)\n",
    "rev = (rev * 10) + (n % 10)\n",
    "n = n // 10\n",
    "print(rev)\n",
    "print(n % 10)\n",
    "rev = (rev * 10) + (n % 10)\n",
    "n = n // 10\n",
    "print(rev)\n"
   ]
  },
  {
   "cell_type": "code",
   "execution_count": 7,
   "id": "2604c8e1",
   "metadata": {},
   "outputs": [
    {
     "name": "stdout",
     "output_type": "stream",
     "text": [
      "True\n",
      "1433883341\n",
      "Value of n:  0\n",
      "1433883341\n",
      "True\n",
      "Is a palindrome\n"
     ]
    }
   ],
   "source": [
    "n = 1433883341\n",
    "r = 0\n",
    "m = n\n",
    "\n",
    "print(n == m)\n",
    "\n",
    "while n > 0:\n",
    "    r = (r * 10) + (n % 10)\n",
    "    n = n // 10\n",
    "    \n",
    "print(r)\n",
    "\n",
    "print(\"Value of n: \",n)\n",
    "\n",
    "print(r)\n",
    "\n",
    "print(m == r)\n",
    "\n",
    "if m == r:\n",
    "    print(\"Is a palindrome\")\n",
    "else:\n",
    "    print(\"Not a Palindrome\")"
   ]
  },
  {
   "cell_type": "code",
   "execution_count": 83,
   "id": "7aa2920b",
   "metadata": {},
   "outputs": [
    {
     "name": "stdout",
     "output_type": "stream",
     "text": [
      "143341\n",
      "True\n"
     ]
    }
   ],
   "source": [
    "n = 1221\n",
    "n = m\n",
    "\n",
    "rev = 0\n",
    "\n",
    "#bruteforce approach\n",
    "while n>0:\n",
    "    # cnt+=1\n",
    "    rev = (rev*10) + n%10\n",
    "    n = n//10\n",
    "\n",
    "print(rev)\n",
    "if m == rev:\n",
    "    print(\"True\")\n",
    "else:\n",
    "    print(\"False\")"
   ]
  },
  {
   "cell_type": "code",
   "execution_count": 72,
   "id": "9d165627",
   "metadata": {},
   "outputs": [
    {
     "name": "stdout",
     "output_type": "stream",
     "text": [
      "True\n"
     ]
    }
   ],
   "source": [
    "n = 101\n",
    "\n",
    "ji = 101\n",
    "\n",
    "k = ji\n",
    "\n",
    "\n",
    "print(n == k)"
   ]
  },
  {
   "cell_type": "markdown",
   "id": "a60790a5",
   "metadata": {},
   "source": [
    "### Armstrong number"
   ]
  },
  {
   "cell_type": "code",
   "execution_count": 3,
   "id": "b601bd61",
   "metadata": {},
   "outputs": [
    {
     "ename": "NameError",
     "evalue": "name 'cout' is not defined",
     "output_type": "error",
     "traceback": [
      "\u001b[1;31m---------------------------------------------------------------------------\u001b[0m",
      "\u001b[1;31mNameError\u001b[0m                                 Traceback (most recent call last)",
      "Cell \u001b[1;32mIn[3], line 9\u001b[0m\n\u001b[0;32m      5\u001b[0m count \u001b[38;5;241m=\u001b[39m (\u001b[38;5;28mint\u001b[39m(math\u001b[38;5;241m.\u001b[39mlog10(n) ) \u001b[38;5;241m+\u001b[39m \u001b[38;5;241m1\u001b[39m)\n\u001b[0;32m      8\u001b[0m \u001b[38;5;28;01mwhile\u001b[39;00m n \u001b[38;5;241m>\u001b[39m \u001b[38;5;241m0\u001b[39m:\n\u001b[1;32m----> 9\u001b[0m     count \u001b[38;5;241m=\u001b[39m \u001b[43mcout\u001b[49m\n",
      "\u001b[1;31mNameError\u001b[0m: name 'cout' is not defined"
     ]
    }
   ],
   "source": [
    "import math\n",
    "\n",
    "n = 153\n",
    "\n",
    "count = (int(math.log10(n) ) + 1)\n",
    "\n",
    "\n",
    "while n > 0:\n",
    "    count = cout"
   ]
  },
  {
   "cell_type": "code",
   "execution_count": 4,
   "id": "0cdadaeb",
   "metadata": {},
   "outputs": [
    {
     "name": "stdout",
     "output_type": "stream",
     "text": [
      "*\n",
      "**\n",
      "***\n",
      "****\n",
      "*****\n"
     ]
    }
   ],
   "source": [
    "def r_t(rows):\n",
    "    for i in range(1, rows + 1):\n",
    "        print(\"*\" * i)\n",
    "\n",
    "r_t(5)\n"
   ]
  },
  {
   "cell_type": "code",
   "execution_count": 4,
   "id": "7887a7ae",
   "metadata": {},
   "outputs": [
    {
     "name": "stdout",
     "output_type": "stream",
     "text": [
      "    *\n",
      "   ***\n",
      "  *****\n",
      " *******\n",
      "*********\n"
     ]
    }
   ],
   "source": [
    "def pyramid(rows):\n",
    "    for i in range(1, rows + 1):\n",
    "        spaces = \" \" * (rows - i)\n",
    "        stars = \"*\" * (2 * i - 1)\n",
    "        print( spaces + stars)\n",
    "        \n",
    "pyramid(5)"
   ]
  },
  {
   "cell_type": "code",
   "execution_count": 9,
   "id": "2ac53c50",
   "metadata": {},
   "outputs": [
    {
     "name": "stdout",
     "output_type": "stream",
     "text": [
      "*************************\n",
      "*                       *\n",
      "*                       *\n",
      "*                       *\n",
      "*                       *\n",
      "*                       *\n",
      "*                       *\n",
      "*                       *\n",
      "*                       *\n",
      "*                       *\n",
      "*                       *\n",
      "*                       *\n",
      "*                       *\n",
      "*                       *\n",
      "*                       *\n",
      "*                       *\n",
      "*                       *\n",
      "*                       *\n",
      "*                       *\n",
      "*                       *\n",
      "*                       *\n",
      "*                       *\n",
      "*                       *\n",
      "*                       *\n",
      "*************************\n"
     ]
    }
   ],
   "source": [
    "def h_s(rows):\n",
    "    for i in range(rows):\n",
    "        if i == 0 or i == rows - 1:\n",
    "            print(\"*\" * rows)\n",
    "        else:\n",
    "            print(\"*\" + \" \" * (rows - 2) + \"*\")\n",
    "\n",
    "h_s(25)          \n"
   ]
  },
  {
   "cell_type": "code",
   "execution_count": 2,
   "id": "dddb3594",
   "metadata": {},
   "outputs": [
    {
     "name": "stdout",
     "output_type": "stream",
     "text": [
      "Enter matrix elements (2x3), row by row, separated by spaces:\n",
      "Invalid input. Enter 3 numbers separated by spaces.\n"
     ]
    }
   ],
   "source": [
    "    def get_matrix_input(rows, cols):\n",
    "        matrix = []\n",
    "        print(f\"Enter matrix elements ({rows}x{cols}), row by row, separated by spaces:\")\n",
    "        for _ in range(rows):\n",
    "            while True:\n",
    "                row_input = input().split()\n",
    "                if len(row_input) == cols:\n",
    "                    try:\n",
    "                        row = [int(num) for num in row_input]\n",
    "                        matrix.append(row)\n",
    "                        break\n",
    "                    except ValueError:\n",
    "                        print(\"Invalid input. Please enter numbers only.\")\n",
    "                else:\n",
    "                    print(f\"Invalid input. Enter {cols} numbers separated by spaces.\")\n",
    "        return matrix\n",
    "\n",
    "    rows = 2\n",
    "    cols = 3\n",
    "    matrix = get_matrix_input(rows, cols)"
   ]
  },
  {
   "cell_type": "code",
   "execution_count": null,
   "id": "7bafc6ec",
   "metadata": {},
   "outputs": [
    {
     "name": "stdout",
     "output_type": "stream",
     "text": [
      "153 is an Armstrong  number\n"
     ]
    }
   ],
   "source": [
    "def a(num):\n",
    "    n_str = str(num)\n",
    "    power = len(n_str)\n",
    "    total = sum(int(digit) ** power for digit in n_str)\n",
    "    return num == total\n",
    "\n",
    "n = int(input(\"Enter a number: \"))\n",
    "if a(n):\n",
    "    print(f\"{n} is an Armstrong  number\")\n",
    "else:\n",
    "    print(f\"{n} is not an Armstrong number\")\n",
    "\n",
    "    "
   ]
  },
  {
   "cell_type": "code",
   "execution_count": 11,
   "id": "67161a47",
   "metadata": {},
   "outputs": [
    {
     "name": "stdout",
     "output_type": "stream",
     "text": [
      "1 2 3 4 5 6 7 8 9 153 370 371 407 1634 8208 9474 54748 92727 93084 548834 "
     ]
    }
   ],
   "source": [
    "for num in range(1,1000001):\n",
    "    if a(num):\n",
    "        print(num, end=\" \")"
   ]
  },
  {
   "cell_type": "code",
   "execution_count": 31,
   "id": "fe0083af",
   "metadata": {},
   "outputs": [
    {
     "name": "stdout",
     "output_type": "stream",
     "text": [
      "Divisiors of 144 : \n",
      "1 144 \n",
      "2 72 \n",
      "3 48 \n",
      "4 36 \n",
      "6 24 \n",
      "8 18 \n",
      "9 16 \n",
      "12 \n"
     ]
    }
   ],
   "source": [
    "n = int(input(\"Enter a number: \"))\n",
    "def div(n):\n",
    "    print(f\"Divisiors of {n} : \")\n",
    "    for i in range(1, int(n**0.5) + 1):\n",
    "        if n % i == 0:\n",
    "            print(i, end = \" \")\n",
    "            if i != n // i:\n",
    "                print(n // i, end = \" \")\n",
    "            print()\n",
    "\n",
    "div(n)                  \n",
    "    "
   ]
  },
  {
   "cell_type": "code",
   "execution_count": null,
   "id": "e6251b41",
   "metadata": {},
   "outputs": [
    {
     "name": "stdout",
     "output_type": "stream",
     "text": [
      "Divisiors of 10: \n",
      "1 2 5 10 \n"
     ]
    }
   ],
   "source": [
    "n = int(input(\"Enter a number: \"))\n",
    "\n",
    "def div(n):\n",
    "    print(f\"Divisiors of {n}: \")\n",
    "    div = []\n",
    "\n",
    "    for i in range(1, int(n**0.5) + 1):\n",
    "        if n % i == 0:\n",
    "            div.append(i)\n",
    "            if i != n // i:\n",
    "                div.append(n // i)\n",
    "\n",
    "    for digit in sorted(div):\n",
    "        print(digit, end= \" \")\n",
    "    print()\n",
    "\n",
    "div(n)                    "
   ]
  },
  {
   "cell_type": "code",
   "execution_count": null,
   "id": "77efd0ed",
   "metadata": {},
   "outputs": [
    {
     "name": "stdout",
     "output_type": "stream",
     "text": [
      "143\n",
      "Not Prime Number\n"
     ]
    }
   ],
   "source": [
    "p = int(input())\n",
    "print(p)\n",
    "if j > 1:\n",
    "    for i in range(2, (int)(p**0.5)+1):\n",
    "        if p % i == 0:\n",
    "            print(\"Not Prime Number\")\n",
    "            break\n",
    "    else:\n",
    "        print(\"Prime Number\")\n",
    "elif i ==1 :\n",
    "\n",
    "\n",
    "    print(\"Neither Prime Number nor composite\")"
   ]
  },
  {
   "cell_type": "code",
   "execution_count": 82,
   "id": "e2d885ef",
   "metadata": {},
   "outputs": [
    {
     "name": "stdout",
     "output_type": "stream",
     "text": [
      "HCF: 1\n"
     ]
    }
   ],
   "source": [
    "# a = int(input())\n",
    "# b = int(input())\n",
    "# print(a,b)\n",
    "a,b = map(int, input().split( ))\n",
    "def hcf(a,b):\n",
    "    while b != 0:\n",
    "        a,b = b, a % b\n",
    "    return a\n",
    "\n",
    "print(f\"HCF: {hcf(a,b)}\")    "
   ]
  },
  {
   "cell_type": "code",
   "execution_count": null,
   "id": "651ab330",
   "metadata": {},
   "outputs": [],
   "source": []
  },
  {
   "cell_type": "code",
   "execution_count": null,
   "id": "6147e792",
   "metadata": {},
   "outputs": [],
   "source": []
  }
 ],
 "metadata": {
  "kernelspec": {
   "display_name": "Python 3",
   "language": "python",
   "name": "python3"
  },
  "language_info": {
   "codemirror_mode": {
    "name": "ipython",
    "version": 3
   },
   "file_extension": ".py",
   "mimetype": "text/x-python",
   "name": "python",
   "nbconvert_exporter": "python",
   "pygments_lexer": "ipython3",
   "version": "3.11.5"
  }
 },
 "nbformat": 4,
 "nbformat_minor": 5
}
